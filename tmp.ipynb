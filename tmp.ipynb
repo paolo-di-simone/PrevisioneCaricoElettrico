{
 "cells": [
  {
   "cell_type": "code",
   "execution_count": 1,
   "id": "cf8d312e",
   "metadata": {},
   "outputs": [],
   "source": [
    "import numpy as np\n",
    "from datetime import datetime\n",
    "import matplotlib.pyplot as plt\n",
    "import seaborn as sns\n",
    "import os\n",
    "import pandas as pd\n",
    "import calendar"
   ]
  },
  {
   "cell_type": "code",
   "execution_count": 17,
   "id": "d2a1df66",
   "metadata": {},
   "outputs": [],
   "source": [
    "list_of_loads = [\n",
    "    \"P_CabinePower_L1\",\n",
    "    \"P L1 WS Emergency Light\",\n",
    "    \"P L1 WS Light\",\n",
    "    \"P L1 WS FanCoil\",\n",
    "    \"P L1 WS FM\",\n",
    "    \"P_HeatPump\",\n",
    "    \"P L2 WS Emergency Light\",\n",
    "    \"P L2 WS Light\",\n",
    "    \"P L2 WS FanCoil\",\n",
    "    \"P L2 WS FM\",\n",
    "    \"P_CabineLight_L3\",\n",
    "    \"P L3 WS Emergency Light\",\n",
    "    \"P L3 WS Light\",\n",
    "    \"P L3 WS FanCoil\",\n",
    "    \"P L3 WS FM\"\n",
    "]"
   ]
  },
  {
   "cell_type": "code",
   "execution_count": 3,
   "id": "f704216b",
   "metadata": {},
   "outputs": [],
   "source": [
    "min_power = {\n",
    "    \"P_CabinePower_L1\": 50,\n",
    "    \"P L1 WS Emergency Light\": 150,\n",
    "    \"P L1 WS Light\": 200,\n",
    "    \"P L1 WS FanCoil\": 0,\n",
    "    \"P L1 WS FM\": 0,\n",
    "    \"P_HeatPump\": 0,\n",
    "    \"P L2 WS Emergency Light\": 200,\n",
    "    \"P L2 WS Light\": 200,\n",
    "    \"P L2 WS FanCoil\": 0,\n",
    "    \"P L2 WS FM\": 0,\n",
    "    \"P_CabineLight_L3\": 0,\n",
    "    \"P L3 WS Emergency Light\": 0,\n",
    "    \"P L3 WS Light\": 0,\n",
    "    \"P L3 WS FanCoil\": 0,\n",
    "    \"P L3 WS FM\": 200\n",
    "}"
   ]
  },
  {
   "cell_type": "code",
   "execution_count": 4,
   "id": "669d9d2b",
   "metadata": {},
   "outputs": [],
   "source": [
    "max_power = {\n",
    "    \"P_CabinePower_L1\": 150,\n",
    "    \"P L1 WS Emergency Light\": 1500,\n",
    "    \"P L1 WS Light\": 350,\n",
    "    \"P L1 WS FanCoil\": 200,\n",
    "    \"P L1 WS FM\": 4000,\n",
    "    \"P_HeatPump\": 1000,\n",
    "    \"P L2 WS Emergency Light\": 1700,\n",
    "    \"P L2 WS Light\": 400,\n",
    "    \"P L2 WS FanCoil\": 200,\n",
    "    \"P L2 WS FM\": 1300,\n",
    "    \"P_CabineLight_L3\": 10,\n",
    "    \"P L3 WS Emergency Light\": 1000,\n",
    "    \"P L3 WS Light\": 350,\n",
    "    \"P L3 WS FanCoil\": 200,\n",
    "    \"P L3 WS FM\": 2000\n",
    "}"
   ]
  },
  {
   "cell_type": "code",
   "execution_count": 5,
   "id": "e567cfa9",
   "metadata": {},
   "outputs": [],
   "source": [
    "dataset_path = os.path.join(\"Preprocessing\", \"Dataset\", \"df.csv\")\n",
    "df = pd.read_csv(dataset_path, index_col=\"Time\")\n",
    "df.index = pd.to_datetime(df.index)"
   ]
  },
  {
   "cell_type": "code",
   "execution_count": 6,
   "id": "cc58698f",
   "metadata": {},
   "outputs": [],
   "source": [
    "for load in list_of_loads:\n",
    "    df[load] = df[load].where(\n",
    "        (df[load] >= min_power[load]) & (df[load] <= max_power[load]), np.nan\n",
    "    )"
   ]
  },
  {
   "cell_type": "code",
   "execution_count": 9,
   "id": "abf78d77",
   "metadata": {},
   "outputs": [],
   "source": [
    "df_avg = df.resample(\"H\").mean()"
   ]
  },
  {
   "cell_type": "code",
   "execution_count": 12,
   "id": "0ca9be48",
   "metadata": {},
   "outputs": [],
   "source": [
    "df_weekday_avg = df_avg[df_avg.index.weekday < 5]\n",
    "df_weekend_avg = df_avg[df_avg.index.weekday >= 5]"
   ]
  },
  {
   "cell_type": "code",
   "execution_count": 13,
   "id": "38eecf25",
   "metadata": {},
   "outputs": [],
   "source": [
    "df_tmp_weekday = df[df.index.weekday < 5]\n",
    "df_tmp_weekend = df[df.index.weekday >= 5]"
   ]
  },
  {
   "cell_type": "code",
   "execution_count": 14,
   "id": "ddef8da1",
   "metadata": {},
   "outputs": [],
   "source": [
    "df_weekday_avg_hour = df_tmp_weekday.groupby(df_tmp_weekday.index.hour).mean()\n",
    "df_weekend_avg_hour = df_tmp_weekend.groupby(df_tmp_weekend.index.hour).mean()"
   ]
  },
  {
   "cell_type": "code",
   "execution_count": 20,
   "id": "93a1be46",
   "metadata": {},
   "outputs": [],
   "source": [
    "def fill_empty_value(df, df_tmp):\n",
    "    for index, row in df.iterrows():\n",
    "        for load in list_of_loads:\n",
    "            if pd.isna(row[load]):\n",
    "                df.loc[index][load] = df_tmp.loc[index.hour][load]\n",
    "    return df"
   ]
  },
  {
   "cell_type": "code",
   "execution_count": 21,
   "id": "a9d29bef",
   "metadata": {},
   "outputs": [],
   "source": [
    "df_weekday_avg = fill_empty_value(df_weekday_avg, df_weekday_avg_hour)\n",
    "df_weekend_avg = fill_empty_value(df_weekend_avg, df_weekend_avg_hour)"
   ]
  },
  {
   "cell_type": "code",
   "execution_count": null,
   "id": "14bca190",
   "metadata": {},
   "outputs": [],
   "source": [
    "df_weekend_avg.describe()"
   ]
  }
 ],
 "metadata": {
  "kernelspec": {
   "display_name": "Python 3",
   "language": "python",
   "name": "python3"
  },
  "language_info": {
   "codemirror_mode": {
    "name": "ipython",
    "version": 3
   },
   "file_extension": ".py",
   "mimetype": "text/x-python",
   "name": "python",
   "nbconvert_exporter": "python",
   "pygments_lexer": "ipython3",
   "version": "3.8.8"
  }
 },
 "nbformat": 4,
 "nbformat_minor": 5
}
