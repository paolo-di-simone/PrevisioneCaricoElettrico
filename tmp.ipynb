{
 "cells": [
  {
   "cell_type": "code",
   "execution_count": 1,
   "id": "cf8d312e",
   "metadata": {},
   "outputs": [],
   "source": [
    "import numpy as np\n",
    "from datetime import datetime\n",
    "import matplotlib.pyplot as plt\n",
    "import seaborn as sns\n",
    "import os\n",
    "import pandas as pd\n",
    "import calendar"
   ]
  },
  {
   "cell_type": "code",
   "execution_count": 2,
   "id": "d2a1df66",
   "metadata": {},
   "outputs": [],
   "source": [
    "list_of_loads = [\n",
    "    \"P_CabinePower_L1\",\n",
    "    \"P L1 WS Emergency Light\",\n",
    "    \"P L1 WS Light\",\n",
    "    \"P L1 WS FanCoil\",\n",
    "    \"P L1 WS FM\",\n",
    "    \"P_HeatPump\",\n",
    "    \"P L2 WS Emergency Light\",\n",
    "    \"P L2 WS Light\",\n",
    "    \"P L2 WS FanCoil\",\n",
    "    \"P L2 WS FM\",\n",
    "    \"P_CabineLight_L3\",\n",
    "    \"P L3 WS Emergency Light\",\n",
    "    \"P L3 WS Light\",\n",
    "    \"P L3 WS FanCoil\",\n",
    "    \"P L3 WS FM\"\n",
    "]"
   ]
  },
  {
   "cell_type": "code",
   "execution_count": 3,
   "id": "f704216b",
   "metadata": {},
   "outputs": [],
   "source": [
    "min_power = {\n",
    "    \"P_CabinePower_L1\": 50,\n",
    "    \"P L1 WS Emergency Light\": 150,\n",
    "    \"P L1 WS Light\": 200,\n",
    "    \"P L1 WS FanCoil\": 0,\n",
    "    \"P L1 WS FM\": 0,\n",
    "    \"P_HeatPump\": 0,\n",
    "    \"P L2 WS Emergency Light\": 200,\n",
    "    \"P L2 WS Light\": 200,\n",
    "    \"P L2 WS FanCoil\": 0,\n",
    "    \"P L2 WS FM\": 0,\n",
    "    \"P_CabineLight_L3\": 0,\n",
    "    \"P L3 WS Emergency Light\": 0,\n",
    "    \"P L3 WS Light\": 0,\n",
    "    \"P L3 WS FanCoil\": 0,\n",
    "    \"P L3 WS FM\": 200\n",
    "}"
   ]
  },
  {
   "cell_type": "code",
   "execution_count": 4,
   "id": "669d9d2b",
   "metadata": {},
   "outputs": [],
   "source": [
    "max_power = {\n",
    "    \"P_CabinePower_L1\": 150,\n",
    "    \"P L1 WS Emergency Light\": 1500,\n",
    "    \"P L1 WS Light\": 350,\n",
    "    \"P L1 WS FanCoil\": 200,\n",
    "    \"P L1 WS FM\": 4000,\n",
    "    \"P_HeatPump\": 1000,\n",
    "    \"P L2 WS Emergency Light\": 1700,\n",
    "    \"P L2 WS Light\": 400,\n",
    "    \"P L2 WS FanCoil\": 200,\n",
    "    \"P L2 WS FM\": 1300,\n",
    "    \"P_CabineLight_L3\": 10,\n",
    "    \"P L3 WS Emergency Light\": 1000,\n",
    "    \"P L3 WS Light\": 350,\n",
    "    \"P L3 WS FanCoil\": 200,\n",
    "    \"P L3 WS FM\": 2000\n",
    "}"
   ]
  },
  {
   "cell_type": "code",
   "execution_count": 14,
   "id": "e567cfa9",
   "metadata": {},
   "outputs": [],
   "source": [
    "dataset_path = os.path.join(\"Preprocessing\", \"Dataset\", \"df.csv\")\n",
    "df = pd.read_csv(dataset_path, index_col=\"Time\")\n",
    "df.index = pd.to_datetime(df.index)"
   ]
  },
  {
   "cell_type": "code",
   "execution_count": 15,
   "id": "a357fbb9",
   "metadata": {},
   "outputs": [
    {
     "data": {
      "text/plain": [
       "4083840"
      ]
     },
     "execution_count": 15,
     "metadata": {},
     "output_type": "execute_result"
    }
   ],
   "source": [
    "len(df)"
   ]
  },
  {
   "cell_type": "code",
   "execution_count": 16,
   "id": "136d9c70",
   "metadata": {},
   "outputs": [
    {
     "data": {
      "text/plain": [
       "P_CabinePower_L1           0\n",
       "P L1 WS Emergency Light    0\n",
       "P L1 WS Light              0\n",
       "P L1 WS FanCoil            0\n",
       "P L1 WS FM                 0\n",
       "P_HeatPump                 0\n",
       "P L2 WS Emergency Light    0\n",
       "P L2 WS Light              0\n",
       "P L2 WS FanCoil            0\n",
       "P L2 WS FM                 0\n",
       "P_CabineLight_L3           0\n",
       "P L3 WS Emergency Light    0\n",
       "P L3 WS Light              0\n",
       "P L3 WS FanCoil            0\n",
       "P L3 WS FM                 0\n",
       "dtype: int64"
      ]
     },
     "execution_count": 16,
     "metadata": {},
     "output_type": "execute_result"
    }
   ],
   "source": [
    "df.isnull().sum()"
   ]
  },
  {
   "cell_type": "code",
   "execution_count": 17,
   "id": "cc58698f",
   "metadata": {},
   "outputs": [],
   "source": [
    "for load in list_of_loads:\n",
    "    df[load] = df[load].where(\n",
    "        (df[load] >= min_power[load]) & (df[load] <= max_power[load]), np.nan\n",
    "    )"
   ]
  },
  {
   "cell_type": "code",
   "execution_count": 18,
   "id": "049d4700",
   "metadata": {},
   "outputs": [
    {
     "data": {
      "text/plain": [
       "4083840"
      ]
     },
     "execution_count": 18,
     "metadata": {},
     "output_type": "execute_result"
    }
   ],
   "source": [
    "len(df)"
   ]
  },
  {
   "cell_type": "code",
   "execution_count": 19,
   "id": "5cc1604a",
   "metadata": {},
   "outputs": [
    {
     "data": {
      "text/plain": [
       "P_CabinePower_L1              327\n",
       "P L1 WS Emergency Light     36338\n",
       "P L1 WS Light              120652\n",
       "P L1 WS FanCoil                18\n",
       "P L1 WS FM                  15247\n",
       "P_HeatPump                   3302\n",
       "P L2 WS Emergency Light     29187\n",
       "P L2 WS Light              293640\n",
       "P L2 WS FanCoil                 0\n",
       "P L2 WS FM                 267757\n",
       "P_CabineLight_L3             3341\n",
       "P L3 WS Emergency Light      1142\n",
       "P L3 WS Light              169762\n",
       "P L3 WS FanCoil               178\n",
       "P L3 WS FM                 197503\n",
       "dtype: int64"
      ]
     },
     "execution_count": 19,
     "metadata": {},
     "output_type": "execute_result"
    }
   ],
   "source": [
    "df.isnull().sum()"
   ]
  },
  {
   "cell_type": "code",
   "execution_count": 20,
   "id": "7e14b03b",
   "metadata": {},
   "outputs": [],
   "source": [
    "def distance(d1, d2):\n",
    "    sum_of_squares = 0\n",
    "    for field in list_of_loads:\n",
    "        diff = d1[field] - d2[field]\n",
    "        sum_of_squares += diff ** 2\n",
    "    return np.sqrt(sum_of_squares)"
   ]
  },
  {
   "cell_type": "code",
   "execution_count": 21,
   "id": "55c01816",
   "metadata": {},
   "outputs": [],
   "source": [
    "best_days = [(\"\",np.inf),(\"\",np.inf),(\"\",np.inf),(\"\",np.inf),(\"\",np.inf),(\"\",np.inf),(\"\",np.inf)]\n",
    "df_mean_day_of_week = df.groupby(df.index.dayofweek).mean()\n",
    "df_mean_day = df.resample(\"D\").mean()\n",
    "for index, row in df_mean_day.iterrows():\n",
    "    dist = distance(row, df_mean_day_of_week.loc[index.dayofweek])\n",
    "    if dist < best_days[index.dayofweek][1]:\n",
    "        best_days[index.dayofweek] = (str(index.year)+\"-\"+str(index.month)+\"-\"+str(index.day), dist)"
   ]
  },
  {
   "cell_type": "code",
   "execution_count": 22,
   "id": "c1cf703d",
   "metadata": {},
   "outputs": [],
   "source": [
    "start_date = df.index.min().date()\n",
    "end_date = df.index.max().date()\n",
    "complete_index = pd.date_range(start=start_date, end=end_date, freq=\"D\")\n",
    "missing_dates = complete_index.difference(df.index.date)\n",
    "\n",
    "list_of_df_missing_date = []\n",
    "for miss_date in missing_dates:\n",
    "    df_tmp = df.loc[best_days[miss_date.weekday()][0]]\n",
    "    df_tmp.index = df_tmp.index.to_series().apply(\n",
    "        lambda x: x.replace(year=miss_date.year, month=miss_date.month, day=miss_date.day)\n",
    "    )\n",
    "    list_of_df_missing_date.append(df_tmp)\n",
    "\n",
    "df = pd.concat([df] + list_of_df_missing_date)\n",
    "df.sort_index(inplace=True)"
   ]
  },
  {
   "cell_type": "code",
   "execution_count": 23,
   "id": "d08e001c",
   "metadata": {},
   "outputs": [
    {
     "data": {
      "text/plain": [
       "4383360"
      ]
     },
     "execution_count": 23,
     "metadata": {},
     "output_type": "execute_result"
    }
   ],
   "source": [
    "len(df)"
   ]
  },
  {
   "cell_type": "code",
   "execution_count": 24,
   "id": "3603438f",
   "metadata": {},
   "outputs": [
    {
     "data": {
      "text/plain": [
       "P_CabinePower_L1              327\n",
       "P L1 WS Emergency Light     36338\n",
       "P L1 WS Light              120652\n",
       "P L1 WS FanCoil                18\n",
       "P L1 WS FM                  15247\n",
       "P_HeatPump                   3302\n",
       "P L2 WS Emergency Light     29594\n",
       "P L2 WS Light              297826\n",
       "P L2 WS FanCoil                 0\n",
       "P L2 WS FM                 267757\n",
       "P_CabineLight_L3             3348\n",
       "P L3 WS Emergency Light      1142\n",
       "P L3 WS Light              169818\n",
       "P L3 WS FanCoil               178\n",
       "P L3 WS FM                 232942\n",
       "dtype: int64"
      ]
     },
     "execution_count": 24,
     "metadata": {},
     "output_type": "execute_result"
    }
   ],
   "source": [
    "df.isnull().sum()"
   ]
  },
  {
   "cell_type": "code",
   "execution_count": null,
   "id": "dc57bfc3",
   "metadata": {},
   "outputs": [],
   "source": []
  },
  {
   "cell_type": "code",
   "execution_count": 25,
   "id": "abf78d77",
   "metadata": {},
   "outputs": [],
   "source": [
    "df_avg = df.resample(\"H\").mean()"
   ]
  },
  {
   "cell_type": "code",
   "execution_count": 26,
   "id": "0ca9be48",
   "metadata": {},
   "outputs": [],
   "source": [
    "df_weekday_avg = df_avg[df_avg.index.weekday < 5]\n",
    "df_weekend_avg = df_avg[df_avg.index.weekday >= 5]"
   ]
  },
  {
   "cell_type": "code",
   "execution_count": 27,
   "id": "38eecf25",
   "metadata": {},
   "outputs": [],
   "source": [
    "df_tmp_weekday = df[df.index.weekday < 5]\n",
    "df_tmp_weekend = df[df.index.weekday >= 5]"
   ]
  },
  {
   "cell_type": "code",
   "execution_count": 28,
   "id": "ddef8da1",
   "metadata": {},
   "outputs": [],
   "source": [
    "df_weekday_avg_hour = df_tmp_weekday.groupby(df_tmp_weekday.index.hour).mean()\n",
    "df_weekend_avg_hour = df_tmp_weekend.groupby(df_tmp_weekend.index.hour).mean()"
   ]
  },
  {
   "cell_type": "code",
   "execution_count": 29,
   "id": "93a1be46",
   "metadata": {},
   "outputs": [],
   "source": [
    "def fill_empty_value(df, df_tmp):\n",
    "    for index, row in df.iterrows():\n",
    "        for load in list_of_loads:\n",
    "            if pd.isna(row[load]):\n",
    "                df.loc[index][load] = df_tmp.loc[index.hour][load]\n",
    "    return df"
   ]
  },
  {
   "cell_type": "code",
   "execution_count": 30,
   "id": "a9d29bef",
   "metadata": {},
   "outputs": [],
   "source": [
    "df_weekday_avg = fill_empty_value(df_weekday_avg, df_weekday_avg_hour)\n",
    "df_weekend_avg = fill_empty_value(df_weekend_avg, df_weekend_avg_hour)"
   ]
  },
  {
   "cell_type": "code",
   "execution_count": 32,
   "id": "14bca190",
   "metadata": {},
   "outputs": [],
   "source": [
    "df_avg_hour = pd.concat([df_weekday_avg, df_weekend_avg])\n",
    "df_avg_hour.sort_index(inplace=True)"
   ]
  },
  {
   "cell_type": "code",
   "execution_count": null,
   "id": "42cc0fd7",
   "metadata": {},
   "outputs": [],
   "source": []
  }
 ],
 "metadata": {
  "kernelspec": {
   "display_name": "Python 3",
   "language": "python",
   "name": "python3"
  },
  "language_info": {
   "codemirror_mode": {
    "name": "ipython",
    "version": 3
   },
   "file_extension": ".py",
   "mimetype": "text/x-python",
   "name": "python",
   "nbconvert_exporter": "python",
   "pygments_lexer": "ipython3",
   "version": "3.8.8"
  }
 },
 "nbformat": 4,
 "nbformat_minor": 5
}
