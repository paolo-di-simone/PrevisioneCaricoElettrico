{
 "cells": [
  {
   "cell_type": "markdown",
   "id": "ee3dc5bb",
   "metadata": {},
   "source": [
    "# Import dataset, definizione funzioni e costanti"
   ]
  },
  {
   "cell_type": "code",
   "execution_count": null,
   "id": "1a5ec0db",
   "metadata": {},
   "outputs": [],
   "source": [
    "import numpy as np\n",
    "from datetime import datetime\n",
    "import matplotlib.pyplot as plt\n",
    "import seaborn as sns\n",
    "import os\n",
    "import sys\n",
    "import pandas as pd\n",
    "import calendar\n",
    "from datetime import datetime, timedelta\n",
    "from calendar import monthrange\n",
    "import matplotlib.dates as mdates\n",
    "import locale"
   ]
  },
  {
   "cell_type": "code",
   "execution_count": null,
   "id": "9ec898b5",
   "metadata": {},
   "outputs": [],
   "source": [
    "locale.setlocale(locale.LC_TIME, 'it_IT')\n",
    "sys.path.insert(0, \"..\")"
   ]
  },
  {
   "cell_type": "code",
   "execution_count": null,
   "id": "5870f15e",
   "metadata": {},
   "outputs": [],
   "source": [
    "import utility"
   ]
  },
  {
   "cell_type": "code",
   "execution_count": null,
   "id": "d80b7c16",
   "metadata": {},
   "outputs": [],
   "source": [
    "plot_base_path = \"Plot\"\n",
    "\n",
    "dataset_training_path = os.path.join(\"..\", \"Preprocessing\", \"Dataset\", \"dataset_training.csv\")\n",
    "df_training = pd.read_csv(dataset_training_path, index_col=\"Timestamp\")\n",
    "df_training.index = pd.to_datetime(df_training.index)\n",
    "\n",
    "dataset_plot_path = os.path.join(\"..\", \"Preprocessing\", \"Dataset\", \"dataset_plot.csv\")\n",
    "df_plot = pd.read_csv(dataset_plot_path, index_col=\"Timestamp\")\n",
    "df_plot.index = pd.to_datetime(df_plot.index)"
   ]
  },
  {
   "cell_type": "code",
   "execution_count": null,
   "id": "3cffd8e9",
   "metadata": {},
   "outputs": [],
   "source": [
    "counter = 0\n",
    "def make_path(base_path, file_name):\n",
    "    global counter\n",
    "    counter += 1\n",
    "    file_name = str(counter) + \"-\" + file_name  \n",
    "    return os.path.join(base_path, file_name)"
   ]
  },
  {
   "cell_type": "markdown",
   "id": "4d9b4ff7",
   "metadata": {},
   "source": [
    "# Analisi minimi, massimi, media e deviazione standard"
   ]
  },
  {
   "cell_type": "code",
   "execution_count": null,
   "id": "a6aa8570",
   "metadata": {},
   "outputs": [],
   "source": [
    "df_training.describe().round(decimals=2)"
   ]
  },
  {
   "cell_type": "markdown",
   "id": "b273d1e5",
   "metadata": {},
   "source": [
    "# Distribuzione valori"
   ]
  },
  {
   "cell_type": "code",
   "execution_count": null,
   "id": "80b6ff7a",
   "metadata": {},
   "outputs": [],
   "source": [
    "counter = 0\n",
    "field = \"Carico totale\"\n",
    "color = \"#CCCCFF\"\n",
    "\n",
    "plt.figure(figsize=(10,5)) \n",
    "\n",
    "#title = \"BoxPlot carico totale sui giorni della settimana\"\n",
    "#plt.title(title)\n",
    "#plt.xlabel(\"Giorno della settimana\")\n",
    "plt.ylabel(\"Carico elettrico (W)\")\n",
    "\n",
    "data_for_plot = [df_training[df_training.index.weekday == i][field] for i in range(0,7)]\n",
    "sns.boxplot(\n",
    "    data=data_for_plot, \n",
    "    color=color, \n",
    "    boxprops={\"edgecolor\": \"#000000\", \"linewidth\": 1.5},\n",
    "    whiskerprops={\"color\": \"#000000\", \"linewidth\": 1.5},\n",
    "    capprops={\"color\": \"#000000\", \"linewidth\": 1.5},\n",
    "    medianprops={\"color\": \"#000000\", \"linewidth\": 1.5},\n",
    "    flierprops={\"markeredgecolor\": \"#000000\", \"markerfacecolor\": color, \"markersize\": 4, \"markeredgewidth\": 0.8, \"marker\": \"o\"}\n",
    ")\n",
    "\n",
    "plt.xticks([0,1,2,3,4,5,6], [\"Lunedì\", \"Martedì\", \"Mercoledì\", \"Giovedì\", \"Venerdì\", \"Sabato\", \"Domenica\"])\n",
    "\n",
    "path = make_path(plot_base_path, \"boxplot-settimana\")\n",
    "plt.savefig(path, bbox_inches='tight', transparent=True)\n",
    "\n",
    "plt.show()"
   ]
  },
  {
   "cell_type": "code",
   "execution_count": null,
   "id": "bd592f25",
   "metadata": {},
   "outputs": [],
   "source": [
    "counter = 0\n",
    "field = \"Carico totale\"\n",
    "color = \"#CCCCFF\"\n",
    "\n",
    "plt.figure(figsize=(15,7)) \n",
    "\n",
    "#title = \"BoxPlot carico totale sulle ore della giornata\"\n",
    "#plt.title(title)\n",
    "#plt.xlabel(\"Ora\")\n",
    "plt.ylabel(\"Carico elettrico (W)\")\n",
    "\n",
    "data_for_plot = [df_training[df_training.index.hour == i][field] for i in range(0,24)]\n",
    "sns.boxplot(\n",
    "    data=data_for_plot, \n",
    "    color=color, \n",
    "    boxprops={\"edgecolor\": \"#000000\", \"linewidth\": 1.5},\n",
    "    whiskerprops={\"color\": \"#000000\", \"linewidth\": 1.5},\n",
    "    capprops={\"color\": \"#000000\", \"linewidth\": 1.5},\n",
    "    medianprops={\"color\": \"#000000\", \"linewidth\": 1.5},\n",
    "    flierprops={\"markeredgecolor\": \"#000000\", \"markerfacecolor\": color, \"markersize\": 4, \"markeredgewidth\": 0.8, \"marker\": \"o\"}\n",
    ")\n",
    "\n",
    "#plt.xticks([0,1,2,3,4,5,6], [\"Lunedì\", \"Martedì\", \"Mercoledì\", \"Giovedì\", \"Venerdì\", \"Sabato\", \"Domenica\"])\n",
    "\n",
    "plt.xticks(\n",
    "    [i for i in range(0,24)],\n",
    "    [str(i).zfill(2) + \":00\" for i in range(0,24)],\n",
    "    rotation=45\n",
    ")  \n",
    "\n",
    "path = make_path(plot_base_path, \"boxplot-ora\")\n",
    "plt.savefig(path, bbox_inches='tight', transparent=True)\n",
    "\n",
    "plt.show()"
   ]
  },
  {
   "cell_type": "markdown",
   "id": "af3a5844",
   "metadata": {},
   "source": [
    "# Plot curve di carico linee L1, L2 e L3"
   ]
  },
  {
   "cell_type": "code",
   "execution_count": null,
   "id": "8977b217",
   "metadata": {},
   "outputs": [],
   "source": [
    "counter = 0\n",
    "fields = [\"Carico totale\"]\n",
    "path = os.path.join(plot_base_path, \"DistributionLoadProcessed\")\n",
    "colors = [\"#4B0049\"]\n",
    "utility.plot_distribution_load(df_training, fields, path, colors=colors)"
   ]
  },
  {
   "cell_type": "code",
   "execution_count": null,
   "id": "af035584",
   "metadata": {
    "scrolled": true
   },
   "outputs": [],
   "source": [
    "counter = 0\n",
    "fields = [\"Carico totale\"]\n",
    "path = os.path.join(plot_base_path, \"DistributionLoadUnprocessed\")\n",
    "colors = [\"#4B0049\"]\n",
    "utility.plot_distribution_load(df_plot, fields, path, colors=colors)"
   ]
  },
  {
   "cell_type": "markdown",
   "id": "a5cd457e",
   "metadata": {},
   "source": [
    "### Plot curva"
   ]
  },
  {
   "cell_type": "code",
   "execution_count": null,
   "id": "09cf1d3d",
   "metadata": {},
   "outputs": [],
   "source": [
    "counter = 0\n",
    "ft = \"%Y-%m-%d %H:%M:%S\"\n",
    "start = datetime.strptime(\"2020-10-01 00:00:00\", ft)\n",
    "end = datetime.strptime(\"2020-10-31 23:00:00\", ft)\n",
    "\n",
    "title = None #\"Curva di carico Aprile 2021\"\n",
    "xlabel = None\n",
    "ylabel = \"Carico elettrico (W)\"\n",
    "dim = (15,7)\n",
    "colors = [\"#9966CC\"]\n",
    "marker = False\n",
    "lw = 3\n",
    "utility.plot_distribution(df_plot, [\"Carico totale\"], start, end, dim, title, xlabel, ylabel, plot_base_path, marker, colors=colors, linewidth=lw)"
   ]
  },
  {
   "cell_type": "markdown",
   "id": "7e3f44d8",
   "metadata": {},
   "source": [
    "### Confronto curva processata e non processata"
   ]
  },
  {
   "cell_type": "code",
   "execution_count": null,
   "id": "3b9453c9",
   "metadata": {},
   "outputs": [],
   "source": [
    "df = pd.DataFrame()\n",
    "df[\"Carico processato\"] = df_training[\"Carico totale\"]\n",
    "df[\"Carico non processato\"] = df_plot[\"Carico totale\"]"
   ]
  },
  {
   "cell_type": "code",
   "execution_count": null,
   "id": "68aecfd4",
   "metadata": {
    "scrolled": true
   },
   "outputs": [],
   "source": [
    "counter = 0\n",
    "fields = [\"Carico processato\", \"Carico non processato\"]\n",
    "path = os.path.join(plot_base_path, \"Confronto\")\n",
    "colors = [\"#4B0049\", \"#9966CC\"]\n",
    "utility.plot_distribution_load(df, fields, path, colors=colors)"
   ]
  },
  {
   "cell_type": "markdown",
   "id": "d22a1537",
   "metadata": {},
   "source": [
    "### Plot curva personalizzata"
   ]
  },
  {
   "cell_type": "code",
   "execution_count": null,
   "id": "ac0e3d09",
   "metadata": {
    "scrolled": false
   },
   "outputs": [],
   "source": [
    "counter = 0\n",
    "ft = \"%Y-%m-%d %H:%M:%S\"\n",
    "start = datetime.strptime(\"2020-10-01 00:00:00\", ft)\n",
    "end = datetime.strptime(\"2020-10-31 23:00:00\", ft)\n",
    "\n",
    "fields = [\"Carico processato\", \"Carico non processato\"]\n",
    "title = None #\"Confronto curva di carico processata e non processata da Dicembre 2020\"\n",
    "xlabel = None\n",
    "ylabel = \"Carico elettrico (W)\"\n",
    "dim = (15,7)\n",
    "marker = False\n",
    "colors = [\"#4B0049\", \"#9966CC\"]\n",
    "lw = 3\n",
    "utility.plot_distribution(df, fields, start, end, dim, title, xlabel, ylabel, plot_base_path, marker, colors=colors, linewidth=lw)"
   ]
  },
  {
   "cell_type": "markdown",
   "id": "71375ddd",
   "metadata": {},
   "source": [
    "# Plot carichi"
   ]
  },
  {
   "cell_type": "code",
   "execution_count": null,
   "id": "887437fe",
   "metadata": {},
   "outputs": [],
   "source": [
    "path_dataset = os.path.join(\"..\", \"Preprocessing\", \"Dataset\", \"dataset_processed.csv\")\n",
    "df_processed = pd.read_csv(path_dataset, index_col=\"Timestamp\")\n",
    "df_processed.index = pd.to_datetime(df_processed.index)\n",
    "\n",
    "path_dataset = os.path.join(\"..\", \"Preprocessing\", \"Dataset\", \"dataset_unprocessed.csv\")\n",
    "df_unprocessed = pd.read_csv(path_dataset, index_col=\"Timestamp\")\n",
    "df_unprocessed.index = pd.to_datetime(df_unprocessed.index)"
   ]
  },
  {
   "cell_type": "code",
   "execution_count": null,
   "id": "3562c1a6",
   "metadata": {},
   "outputs": [],
   "source": [
    "fields = [\n",
    "    'Potenza di cabina L1', 'Luci di emergenza L1', 'Luci degli uffici L1',\n",
    "    'Fan coil L1', 'Forza motrice L1', 'Pompa di calore L2',\n",
    "    'Luci di emergenza L2', 'Luci degli uffici L2', 'Fan coil L2',\n",
    "    'Forza motrice L2', 'Luci di cabina L3', 'Luci di emergenza L3',\n",
    "    'Luci degli uffici L3', 'Fan coil L3', 'Forza motrice L3'\n",
    "]\n",
    "field = \"Forza motrice L1\""
   ]
  },
  {
   "cell_type": "code",
   "execution_count": null,
   "id": "8a4d65d7",
   "metadata": {},
   "outputs": [],
   "source": [
    "df = pd.DataFrame()\n",
    "df[field + \" processato\"] = df_processed[field]\n",
    "df[field + \" non processato\"] = df_unprocessed[field]"
   ]
  },
  {
   "cell_type": "code",
   "execution_count": null,
   "id": "d35564bd",
   "metadata": {},
   "outputs": [],
   "source": [
    "counter = 0\n",
    "fields = [field + \" processato\", field + \" non processato\"]\n",
    "path = os.path.join(plot_base_path, \"Load\")\n",
    "utility.plot_distribution_load(df, fields, path)"
   ]
  },
  {
   "cell_type": "markdown",
   "id": "6728e749",
   "metadata": {},
   "source": [
    "### Plot carico di confronto"
   ]
  },
  {
   "cell_type": "code",
   "execution_count": null,
   "id": "41de9d0f",
   "metadata": {
    "scrolled": false
   },
   "outputs": [],
   "source": [
    "ft = \"%Y-%m-%d %H:%M:%S\"\n",
    "start = datetime.strptime(\"2020-12-08 00:00:00\", ft)\n",
    "end = datetime.strptime(\"2020-12-21 23:00:00\", ft)\n",
    "\n",
    "field = \"Forza motrice L1\"\n",
    "\n",
    "title = field + \" da \" + str(start) + \" a \" + str(end)\n",
    "xlabel = \"Tempo\"\n",
    "ylabel = \"W\"\n",
    "dim = (20,7)\n",
    "#fields = [field + \" processato\", field + \" non processato\"]\n",
    "utility.plot_distribution(df_processed, fields, start, end, dim, title, xlabel, ylabel, plot_base_path)\n",
    "utility.plot_distribution(df_unprocessed, fields, start, end, dim, title, xlabel, ylabel, plot_base_path)"
   ]
  },
  {
   "cell_type": "markdown",
   "id": "7f95b2fe",
   "metadata": {},
   "source": [
    "# Analisi Feature"
   ]
  },
  {
   "cell_type": "code",
   "execution_count": null,
   "id": "121aea49",
   "metadata": {},
   "outputs": [],
   "source": [
    "dataset_path = os.path.join(\"..\", \"Preprocessing\", \"Dataset\", \"dataset_training.csv\")\n",
    "df = pd.read_csv(dataset_path, index_col=\"Timestamp\")\n",
    "df.index = pd.to_datetime(df.index)"
   ]
  },
  {
   "cell_type": "code",
   "execution_count": null,
   "id": "6446acb7",
   "metadata": {},
   "outputs": [],
   "source": [
    "counter = 0"
   ]
  },
  {
   "cell_type": "code",
   "execution_count": null,
   "id": "ca4dedf4",
   "metadata": {},
   "outputs": [],
   "source": [
    "df_weekday = df[(df.index.weekday >= 0) & (df.index.weekday <= 4) & (df.Festivo == 0) & (df.index.year > 2020)]\n",
    "df_weekend = df[(df.index.weekday > 4)]"
   ]
  },
  {
   "cell_type": "code",
   "execution_count": null,
   "id": "68444193",
   "metadata": {},
   "outputs": [],
   "source": [
    "title = None #\"Distribuzione al variare della temperatura dei consumi elettrici orari\"\n",
    "xlabel = \"Temperatura (°C)\"\n",
    "ylabel = \"Carico elettrico (W)\"\n",
    "\n",
    "dim = (10,5)\n",
    "y = \"Carico totale\"\n",
    "x = \"Temperatura\"\n",
    "\n",
    "plt.figure(figsize=dim) \n",
    "plt.grid()\n",
    "\n",
    "plt.title(title)\n",
    "plt.xlabel(xlabel)\n",
    "plt.ylabel(ylabel)\n",
    "\n",
    "dd = df_weekday.loc[df_weekday['Temperatura'] != 32.189000]\n",
    "sns.scatterplot(data=dd, x=x, y=y, color=\"#9966CC\", alpha=0.3)\n",
    "\n",
    "plt.xticks(rotation=45)\n",
    "\n",
    "#file_name = \"\".join(title.lower()).replace(\" \", \"_\")\n",
    "#file_name = file_name.replace(\":\", \"_\")\n",
    "path = make_path(plot_base_path, \"plot\")\n",
    "plt.savefig(path, bbox_inches='tight', transparent=True)\n",
    "plt.show()\n",
    "\n",
    "plt.show()"
   ]
  },
  {
   "cell_type": "code",
   "execution_count": null,
   "id": "5b83fa57",
   "metadata": {},
   "outputs": [],
   "source": []
  }
 ],
 "metadata": {
  "kernelspec": {
   "display_name": "Python 3",
   "language": "python",
   "name": "python3"
  },
  "language_info": {
   "codemirror_mode": {
    "name": "ipython",
    "version": 3
   },
   "file_extension": ".py",
   "mimetype": "text/x-python",
   "name": "python",
   "nbconvert_exporter": "python",
   "pygments_lexer": "ipython3",
   "version": "3.8.8"
  }
 },
 "nbformat": 4,
 "nbformat_minor": 5
}
