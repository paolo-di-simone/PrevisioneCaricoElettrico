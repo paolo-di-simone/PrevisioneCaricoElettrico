{
 "cells": [
  {
   "cell_type": "markdown",
   "id": "2b258b57",
   "metadata": {},
   "source": [
    "# Addestramento modelli"
   ]
  },
  {
   "cell_type": "code",
   "execution_count": null,
   "id": "cdc21c84",
   "metadata": {},
   "outputs": [],
   "source": [
    "import warnings\n",
    "import numpy as np\n",
    "import pandas as pd\n",
    "import os\n",
    "import sys  \n",
    "from datetime import datetime, timedelta"
   ]
  },
  {
   "cell_type": "code",
   "execution_count": null,
   "id": "28192184",
   "metadata": {},
   "outputs": [],
   "source": [
    "warnings.filterwarnings(\"ignore\")\n",
    "sys.path.insert(0, \"..\")"
   ]
  },
  {
   "cell_type": "code",
   "execution_count": null,
   "id": "ee25e026",
   "metadata": {},
   "outputs": [],
   "source": [
    "import utility"
   ]
  },
  {
   "cell_type": "code",
   "execution_count": null,
   "id": "0adfc7ef",
   "metadata": {},
   "outputs": [],
   "source": [
    "from keras.models import load_model"
   ]
  },
  {
   "cell_type": "code",
   "execution_count": null,
   "id": "94198f06",
   "metadata": {},
   "outputs": [],
   "source": [
    "model_trained_base_path = \"TrainingDirectory\"\n",
    "dataset_path = os.path.join(\"..\", \"Preprocessing\", \"Dataset\", \"dataset_training.csv\")"
   ]
  },
  {
   "cell_type": "code",
   "execution_count": null,
   "id": "de4b595f",
   "metadata": {},
   "outputs": [],
   "source": [
    "colors_model = {\n",
    "    \"modello1\": \"#FF7F50\",\n",
    "    \"modello2\": \"#FFBF00\",\n",
    "    \"modello3\": \"#6495ED\",\n",
    "    \"modello4\": \"#93C572\"\n",
    "}"
   ]
  },
  {
   "cell_type": "markdown",
   "id": "b826c35d",
   "metadata": {},
   "source": [
    "### Import dei dati"
   ]
  },
  {
   "cell_type": "code",
   "execution_count": null,
   "id": "85194f01",
   "metadata": {},
   "outputs": [],
   "source": [
    "df = utility.import_dataset(dataset_path, \"2021\", \"2023\")\n",
    "display(df)"
   ]
  },
  {
   "cell_type": "markdown",
   "id": "b69b0dea",
   "metadata": {},
   "source": [
    "### OneHot encoding e normalizzazione"
   ]
  },
  {
   "cell_type": "code",
   "execution_count": null,
   "id": "19cc20d6",
   "metadata": {},
   "outputs": [],
   "source": [
    "df, scaler = utility.processing_dataset(df)"
   ]
  },
  {
   "cell_type": "markdown",
   "id": "a60c3716",
   "metadata": {},
   "source": [
    "### Splitting in training, validation e test"
   ]
  },
  {
   "cell_type": "code",
   "execution_count": null,
   "id": "83844208",
   "metadata": {},
   "outputs": [],
   "source": [
    "df_train, df_validation, df_test = utility.split_dataset(df, \"2021-03\", \"2022-04\")"
   ]
  },
  {
   "cell_type": "code",
   "execution_count": null,
   "id": "890161d8",
   "metadata": {},
   "outputs": [],
   "source": [
    "time_steps = 24 * 5\n",
    "dim_other_feature = 24 + 7 + 12 + 1"
   ]
  },
  {
   "cell_type": "code",
   "execution_count": null,
   "id": "d6e25659",
   "metadata": {},
   "outputs": [],
   "source": [
    "train = utility.windowed_dataset(df_train, time_steps)\n",
    "validation = utility.windowed_dataset(df_validation, time_steps)\n",
    "test = utility.windowed_dataset(df_test, time_steps)"
   ]
  },
  {
   "cell_type": "markdown",
   "id": "65adc3c0",
   "metadata": {},
   "source": [
    "### Result of training"
   ]
  },
  {
   "cell_type": "code",
   "execution_count": null,
   "id": "e8480f0b",
   "metadata": {},
   "outputs": [],
   "source": [
    "base_path = os.path.join(model_trained_base_path, \"model4\")\n",
    "model = load_model(os.path.join(base_path, \"weights-model.h5\"))\n",
    "history = utility.read_history(os.path.join(base_path, \"history-model.json\")) \n",
    "colore = colors_model[\"modello4\"]"
   ]
  },
  {
   "cell_type": "code",
   "execution_count": null,
   "id": "de276a58",
   "metadata": {},
   "outputs": [],
   "source": [
    "utility.counter = 0\n",
    "utility.plot_history(history, \"#121212\", colore, (10,5), base_path)"
   ]
  },
  {
   "cell_type": "code",
   "execution_count": null,
   "id": "1eb9087c",
   "metadata": {},
   "outputs": [],
   "source": [
    "y_pred_test = model.predict(utility.get_x(train, \"CaricoTotale\"))\n",
    "y_pred_test_inv = scaler.inverse_transform(y_pred_test)\n",
    "df_prediction_train = utility.add_prediction(df_train, y_pred_test_inv, time_steps, \"Carico totale predizione\")\n",
    "mape = utility.MAPE(df_prediction_train[\"Carico totale\"], df_prediction_train[\"Carico totale predizione\"])\n",
    "mae = utility.MAE(df_prediction_train[\"Carico totale\"], df_prediction_train[\"Carico totale predizione\"])\n",
    "print(\"MAPE training set:\", mape)\n",
    "print(\"MAE training set:\", mae)\n",
    "\n",
    "print()\n",
    "\n",
    "y_pred_test = model.predict(utility.get_x(test, \"CaricoTotale\"))\n",
    "y_pred_test_inv = scaler.inverse_transform(y_pred_test)\n",
    "df_prediction_test = utility.add_prediction(df_test, y_pred_test_inv, time_steps, \"Carico totale predizione\")\n",
    "mape = utility.MAPE(df_prediction_test[\"Carico totale\"], df_prediction_test[\"Carico totale predizione\"])\n",
    "mae = utility.MAE(df_prediction_test[\"Carico totale\"], df_prediction_test[\"Carico totale predizione\"])\n",
    "print(\"MAPE test set:\", mape)\n",
    "print(\"MAE test set:\", mae)"
   ]
  },
  {
   "cell_type": "code",
   "execution_count": null,
   "id": "318d7aef",
   "metadata": {},
   "outputs": [],
   "source": [
    "utility.counter = 4\n",
    "ft = \"%Y-%m-%d %H:%M:%S\"\n",
    "start = datetime.strptime(\"2022-04-08 00:00:00\", ft)\n",
    "end = datetime.strptime(\"2022-04-28 23:00:00\", ft)\n",
    "\n",
    "fields = [\"Carico totale\", \"Carico totale predizione\"]\n",
    "colors = [\"#121212\", colore]\n",
    "\n",
    "title = None #\"Confronto curva di carico e predizione da \" + str(start) + \" a \" + str(end)\n",
    "xlabel = None #\"Ora\"\n",
    "ylabel = \"Carico elettrico (W)\"\n",
    "dim = (15,7)\n",
    "marker = False\n",
    "lw = 3\n",
    "utility.plot_distribution(df_prediction_test, fields, start, end, dim, title, xlabel, ylabel, base_path, marker, colors=colors, linewidth=lw)"
   ]
  },
  {
   "cell_type": "markdown",
   "id": "725b573b",
   "metadata": {},
   "source": [
    "##### Errori MAPE, MAE, RMSE sulle singole giornate"
   ]
  },
  {
   "cell_type": "code",
   "execution_count": null,
   "id": "e0d3641a",
   "metadata": {},
   "outputs": [],
   "source": [
    "df_error = utility.get_df_errors(df_prediction_test, \"Carico totale\", \"Carico totale predizione\")\n",
    "utility.counter = 5"
   ]
  },
  {
   "cell_type": "code",
   "execution_count": null,
   "id": "5caf1dea",
   "metadata": {},
   "outputs": [],
   "source": [
    "df_sorted = df_error.sort_values(by=[\"mape\"])\n",
    "df_sorted"
   ]
  },
  {
   "cell_type": "markdown",
   "id": "037b0587",
   "metadata": {},
   "source": [
    "##### Errori MAPE, MAE, RMSE sui giorni della settimana"
   ]
  },
  {
   "cell_type": "code",
   "execution_count": null,
   "id": "8911c1f7",
   "metadata": {},
   "outputs": [],
   "source": [
    "df_error_day_of_week = utility.get_df_error_days_of_week(df_prediction_test, \"Carico totale\", \"Carico totale predizione\")\n",
    "utility.counter = 8"
   ]
  },
  {
   "cell_type": "code",
   "execution_count": null,
   "id": "b5510021",
   "metadata": {},
   "outputs": [],
   "source": [
    "keys = df_error_day_of_week[\"DoW\"]\n",
    "values = np.round(df_error_day_of_week[\"mape\"], 2)\n",
    "\n",
    "ylabel = \"MAPE (%)\"\n",
    "title = None #\"Mean Absolute Percentage Error (MAPE) sui giorni della settimana\"\n",
    "color = colore\n",
    "dim = (10,5)\n",
    "linewidth = 1.3\n",
    "\n",
    "utility.bar_plot(keys, values, ylabel, title, color, dim, linewidth, base_path)"
   ]
  },
  {
   "cell_type": "code",
   "execution_count": null,
   "id": "648e8a07",
   "metadata": {},
   "outputs": [],
   "source": [
    "keys = df_error_day_of_week[\"DoW\"]\n",
    "values = np.round(df_error_day_of_week[\"mae\"], 2)\n",
    "\n",
    "ylabel = \"MAE (W)\"\n",
    "title = None #\"Mean Absolute Error (MAE) sui giorni della settimana\"\n",
    "color = colore\n",
    "dim = (10,5)\n",
    "linewidth = 1.3\n",
    "\n",
    "utility.bar_plot(keys, values, ylabel, title, color, dim, linewidth, base_path)"
   ]
  },
  {
   "cell_type": "code",
   "execution_count": null,
   "id": "a1363725",
   "metadata": {},
   "outputs": [],
   "source": []
  }
 ],
 "metadata": {
  "kernelspec": {
   "display_name": "Python 3",
   "language": "python",
   "name": "python3"
  },
  "language_info": {
   "codemirror_mode": {
    "name": "ipython",
    "version": 3
   },
   "file_extension": ".py",
   "mimetype": "text/x-python",
   "name": "python",
   "nbconvert_exporter": "python",
   "pygments_lexer": "ipython3",
   "version": "3.8.8"
  }
 },
 "nbformat": 4,
 "nbformat_minor": 5
}
