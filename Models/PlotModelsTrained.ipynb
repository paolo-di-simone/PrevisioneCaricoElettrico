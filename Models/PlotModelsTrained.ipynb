{
 "cells": [
  {
   "cell_type": "markdown",
   "id": "2b258b57",
   "metadata": {},
   "source": [
    "# Addestramento modelli"
   ]
  },
  {
   "cell_type": "code",
   "execution_count": null,
   "id": "cdc21c84",
   "metadata": {},
   "outputs": [],
   "source": [
    "import warnings\n",
    "import numpy as np\n",
    "import pandas as pd\n",
    "import os\n",
    "import sys  \n",
    "from datetime import datetime"
   ]
  },
  {
   "cell_type": "code",
   "execution_count": null,
   "id": "28192184",
   "metadata": {},
   "outputs": [],
   "source": [
    "warnings.filterwarnings(\"ignore\")\n",
    "sys.path.insert(0, \"..\")"
   ]
  },
  {
   "cell_type": "code",
   "execution_count": null,
   "id": "ee25e026",
   "metadata": {},
   "outputs": [],
   "source": [
    "import utility"
   ]
  },
  {
   "cell_type": "code",
   "execution_count": null,
   "id": "0adfc7ef",
   "metadata": {},
   "outputs": [],
   "source": [
    "from keras.models import load_model"
   ]
  },
  {
   "cell_type": "code",
   "execution_count": null,
   "id": "94198f06",
   "metadata": {},
   "outputs": [],
   "source": [
    "model_trained_base_path = \"TrainingDirectory\"\n",
    "plot_base_path = os.path.join(model_trained_base_path, \"Risultati\")\n",
    "dataset_path = os.path.join(\"..\", \"Preprocessing\", \"Dataset\", \"dataset_training.csv\")"
   ]
  },
  {
   "cell_type": "markdown",
   "id": "b826c35d",
   "metadata": {},
   "source": [
    "### Import dei dati"
   ]
  },
  {
   "cell_type": "code",
   "execution_count": null,
   "id": "85194f01",
   "metadata": {},
   "outputs": [],
   "source": [
    "df = utility.import_dataset(dataset_path, \"2021\", \"2023\")\n",
    "display(df)"
   ]
  },
  {
   "cell_type": "markdown",
   "id": "b69b0dea",
   "metadata": {},
   "source": [
    "### OneHot encoding e normalizzazione"
   ]
  },
  {
   "cell_type": "code",
   "execution_count": null,
   "id": "19cc20d6",
   "metadata": {},
   "outputs": [],
   "source": [
    "df, scaler = utility.processing_dataset(df)"
   ]
  },
  {
   "cell_type": "markdown",
   "id": "a60c3716",
   "metadata": {},
   "source": [
    "### Splitting in training, validation e test"
   ]
  },
  {
   "cell_type": "code",
   "execution_count": null,
   "id": "83844208",
   "metadata": {},
   "outputs": [],
   "source": [
    "df_train, df_validation, df_test = utility.split_dataset(df, \"2021-03\", \"2022-04\")"
   ]
  },
  {
   "cell_type": "markdown",
   "id": "684fd2f5",
   "metadata": {},
   "source": [
    "### Prediction models"
   ]
  },
  {
   "cell_type": "markdown",
   "id": "68770746",
   "metadata": {},
   "source": [
    "##### Model 1 - PAPER0 - LSTMwithoutOtherFeature"
   ]
  },
  {
   "cell_type": "code",
   "execution_count": null,
   "id": "396322d4",
   "metadata": {},
   "outputs": [],
   "source": [
    "base_path = os.path.join(model_trained_base_path, \"model1\")\n",
    "model = load_model(os.path.join(base_path, \"weights-model.h5\"))"
   ]
  },
  {
   "cell_type": "code",
   "execution_count": null,
   "id": "890161d8",
   "metadata": {},
   "outputs": [],
   "source": [
    "time_steps = 24 * 7\n",
    "dim_other_feature = 24 + 7 + 12 + 1"
   ]
  },
  {
   "cell_type": "code",
   "execution_count": null,
   "id": "212bc736",
   "metadata": {},
   "outputs": [],
   "source": [
    "test = utility.windowed_dataset(df_test, time_steps)\n",
    "y_pred_test = model.predict(utility.get_x(test, \"CaricoTotale\")[0])\n",
    "y_pred_test_inv = scaler.inverse_transform(y_pred_test)\n",
    "df1 = utility.add_prediction(df_test, y_pred_test_inv, time_steps, \"Predizione Modello 1\")\n",
    "df1 = df1[[\"Predizione Modello 1\"]]"
   ]
  },
  {
   "cell_type": "markdown",
   "id": "aafc1638",
   "metadata": {},
   "source": [
    "##### Model 2 - PAPER12 - LSTMwithOtherFeature"
   ]
  },
  {
   "cell_type": "code",
   "execution_count": null,
   "id": "ec7d54e9",
   "metadata": {},
   "outputs": [],
   "source": [
    "base_path = os.path.join(model_trained_base_path, \"model2\")\n",
    "model = load_model(os.path.join(base_path, \"weights-model.h5\"))"
   ]
  },
  {
   "cell_type": "code",
   "execution_count": null,
   "id": "1b7c7e00",
   "metadata": {},
   "outputs": [],
   "source": [
    "time_steps = 24 * 3\n",
    "dim_other_feature = 24 + 7 + 12 + 1"
   ]
  },
  {
   "cell_type": "code",
   "execution_count": null,
   "id": "7f43530b",
   "metadata": {},
   "outputs": [],
   "source": [
    "test = utility.windowed_dataset(df_test, time_steps)\n",
    "y_pred_test = model.predict(utility.get_x(test, \"CaricoTotale\"))\n",
    "y_pred_test_inv = scaler.inverse_transform(y_pred_test)\n",
    "df2 = utility.add_prediction(df_test, y_pred_test_inv, time_steps, \"Predizione Modello 2\")\n",
    "df2 = df2[[\"Predizione Modello 2\"]]"
   ]
  },
  {
   "cell_type": "markdown",
   "id": "7782856c",
   "metadata": {},
   "source": [
    "##### Model 3 - PAPER13 - Conv1D + LSTM"
   ]
  },
  {
   "cell_type": "code",
   "execution_count": null,
   "id": "b4838d0b",
   "metadata": {},
   "outputs": [],
   "source": [
    "base_path = os.path.join(model_trained_base_path, \"model3\")\n",
    "model = load_model(os.path.join(base_path, \"weights-model.h5\"))"
   ]
  },
  {
   "cell_type": "code",
   "execution_count": null,
   "id": "0aa832a4",
   "metadata": {},
   "outputs": [],
   "source": [
    "time_steps = 24 * 3\n",
    "dim_other_feature = 24 + 7 + 12 + 1"
   ]
  },
  {
   "cell_type": "code",
   "execution_count": null,
   "id": "53dd6e19",
   "metadata": {},
   "outputs": [],
   "source": [
    "test = utility.windowed_dataset(df_test, time_steps)\n",
    "y_pred_test = model.predict(utility.get_x(test, \"CaricoTotale\"))\n",
    "y_pred_test_inv = scaler.inverse_transform(y_pred_test)\n",
    "df3 = utility.add_prediction(df_test, y_pred_test_inv, time_steps, \"Predizione Modello 3\")\n",
    "df3 = df3[[\"Predizione Modello 3\"]]"
   ]
  },
  {
   "cell_type": "markdown",
   "id": "b963b9b3",
   "metadata": {},
   "source": [
    "##### Model 4 - PAPER18 - Wavenet"
   ]
  },
  {
   "cell_type": "code",
   "execution_count": null,
   "id": "b8d27513",
   "metadata": {},
   "outputs": [],
   "source": [
    "base_path = os.path.join(model_trained_base_path, \"model4\")\n",
    "model = load_model(os.path.join(base_path, \"weights-model.h5\"))"
   ]
  },
  {
   "cell_type": "code",
   "execution_count": null,
   "id": "47e919a1",
   "metadata": {},
   "outputs": [],
   "source": [
    "time_steps = 24 * 5\n",
    "dim_other_feature = 24 + 7 + 12 + 1"
   ]
  },
  {
   "cell_type": "code",
   "execution_count": null,
   "id": "ab7b66a9",
   "metadata": {},
   "outputs": [],
   "source": [
    "test = utility.windowed_dataset(df_test, time_steps)\n",
    "y_pred_test = model.predict(utility.get_x(test, \"CaricoTotale\"))\n",
    "y_pred_test_inv = scaler.inverse_transform(y_pred_test)\n",
    "df4 = utility.add_prediction(df_test, y_pred_test_inv, time_steps, \"Predizione Modello 4\")\n",
    "df4 = df4[[\"Predizione Modello 4\"]]"
   ]
  },
  {
   "cell_type": "markdown",
   "id": "65adc3c0",
   "metadata": {},
   "source": [
    "### Plot curve di predizione"
   ]
  },
  {
   "cell_type": "code",
   "execution_count": null,
   "id": "079d05bd",
   "metadata": {},
   "outputs": [],
   "source": [
    "df = df_test[[\"Carico totale\"]]\n",
    "df = df.merge(df1, left_index=True, right_index=True)\n",
    "df = df.merge(df2, left_index=True, right_index=True)\n",
    "df = df.merge(df3, left_index=True, right_index=True)\n",
    "df = df.merge(df4, left_index=True, right_index=True)"
   ]
  },
  {
   "cell_type": "code",
   "execution_count": null,
   "id": "417389d3",
   "metadata": {},
   "outputs": [],
   "source": [
    "counter = 0\n",
    "ft = \"%Y-%m-%d %H:%M:%S\"\n",
    "start = datetime.strptime(\"2022-04-08 00:00:00\", ft)\n",
    "end = datetime.strptime(\"2022-04-14 23:00:00\", ft)\n",
    "\n",
    "title = \"Confronto curve di predizione dei quattro modelli (Aprile 2022)\"\n",
    "xlabel = None #\"Ora\"\n",
    "ylabel = \"Carico elettrico (W)\"\n",
    "dim = (15,7)\n",
    "marker = False\n",
    "fields = [\"Carico totale\", \"Predizione Modello 1\", \"Predizione Modello 2\", \"Predizione Modello 3\", \"Predizione Modello 4\"]\n",
    "colors = [\"#121212\", \"#FF7518\", \"#FFBF00\", \"#6495ED\", \"#93C572\"]\n",
    "lw = 3\n",
    "utility.plot_distribution(df, fields, start, end, dim, title, xlabel, ylabel, marker=marker, colors=colors, linewidth=lw, base_path=plot_base_path)"
   ]
  },
  {
   "cell_type": "code",
   "execution_count": null,
   "id": "56256bfd",
   "metadata": {},
   "outputs": [],
   "source": [
    "counter = 0\n",
    "ft = \"%Y-%m-%d %H:%M:%S\"\n",
    "start = datetime.strptime(\"2022-05-11 00:00:00\", ft)\n",
    "end = datetime.strptime(\"2022-05-11 23:00:00\", ft)\n",
    "\n",
    "title = None #\"Confronto curva di carico e predizione da \" + str(start) + \" a \" + str(end)\n",
    "xlabel = None #\"Ora\"\n",
    "ylabel = \"Carico elettrico (W)\"\n",
    "dim = (15,7)\n",
    "fields = [\"Carico totale\", \"Predizione Modello 1\", \"Predizione Modello 2\", \"Predizione Modello 3\", \"Predizione Modello 4\"]\n",
    "colors = [\"#121212\", \"#FF7F50\", \"#FFBF00\", \"#6495ED\", \"#93C572\"]\n",
    "markers = [\".-\", \"o--\", \"s--\", \"*--\", \"D--\"]\n",
    "ms = 7\n",
    "lw = 3\n",
    "utility.plot_multiple_distribution(df, fields, start, end, dim, title, xlabel, ylabel, colors, markers, ms, lw, base_path=plot_base_path)"
   ]
  },
  {
   "cell_type": "markdown",
   "id": "b3ea05c0",
   "metadata": {},
   "source": [
    "### Plot errori settimana"
   ]
  },
  {
   "cell_type": "code",
   "execution_count": null,
   "id": "df86dd53",
   "metadata": {},
   "outputs": [],
   "source": [
    "df_e1 = utility.get_df_error_days_of_week(df, \"Carico totale\", \"Predizione Modello 1\")\n",
    "df_e2 = utility.get_df_error_days_of_week(df, \"Carico totale\", \"Predizione Modello 2\")\n",
    "df_e3 = utility.get_df_error_days_of_week(df, \"Carico totale\", \"Predizione Modello 3\")\n",
    "df_e4 = utility.get_df_error_days_of_week(df, \"Carico totale\", \"Predizione Modello 4\")"
   ]
  },
  {
   "cell_type": "code",
   "execution_count": null,
   "id": "843bfc57",
   "metadata": {},
   "outputs": [],
   "source": [
    "values_df1 = np.round(df_e1[\"mape\"], 2)\n",
    "values_df2 = np.round(df_e2[\"mape\"], 2)\n",
    "values_df3 = np.round(df_e3[\"mape\"], 2)\n",
    "values_df4 = np.round(df_e4[\"mape\"], 2)\n",
    "values = [values_df1, values_df2, values_df3, values_df4]\n",
    "\n",
    "keys = [\"Lunedì\", \"Martedì\", \"Mercoledì\", \"Giovedì\", \"Venerdì\", \"Sabato\", \"Domenica\"]\n",
    "labels = [\"Modello 1\", \"Modello 2\", \"Modello 3\", \"Modello 4\"]\n",
    "colors = [\"#FF7F50\", \"#FFBF00\", \"#6495ED\", \"#93C572\"]\n",
    "\n",
    "bar_width = 0.20\n",
    "dim = (20,8)\n",
    "\n",
    "title = None #\"MAPE (%) sul test set dei modelli addestrati sui giorni della settimana\"\n",
    "ylabel = \"MAPE (%)\"\n",
    "xlabel = None #\"Giorni della settimana\"\n",
    "\n",
    "utility.multiple_bar_plot(keys, values, labels, bar_width, xlabel, ylabel, title, colors, dim, base_path=plot_base_path)"
   ]
  },
  {
   "cell_type": "code",
   "execution_count": null,
   "id": "d959f602",
   "metadata": {},
   "outputs": [],
   "source": [
    "values_df1 = np.round(df_e1[\"mae\"], 0)\n",
    "values_df2 = np.round(df_e2[\"mae\"], 0)\n",
    "values_df3 = np.round(df_e3[\"mae\"], 0)\n",
    "values_df4 = np.round(df_e4[\"mae\"], 0)\n",
    "values = [values_df1, values_df2, values_df3, values_df4]\n",
    "\n",
    "keys = [\"Lunedì\", \"Martedì\", \"Mercoledì\", \"Giovedì\", \"Venerdì\", \"Sabato\", \"Domenica\"]\n",
    "labels = [\"Modello 1\", \"Modello 2\", \"Modello 3\", \"Modello 4\"]\n",
    "colors = [\"#FF7F50\", \"#FFBF00\", \"#6495ED\", \"#93C572\"]\n",
    "\n",
    "bar_width = 0.20\n",
    "dim = (20,8)\n",
    "\n",
    "title = None #\"MAE sul test set dei modelli addestrati sui giorni della settimana\"\n",
    "ylabel = \"MAE (W)\"\n",
    "xlabel = None #\"Giorni della settimana\"\n",
    "\n",
    "utility.multiple_bar_plot(keys, values, labels, bar_width, xlabel, ylabel, title, colors, dim, base_path=plot_base_path)"
   ]
  },
  {
   "cell_type": "markdown",
   "id": "3e9eb170",
   "metadata": {},
   "source": [
    "### Plot errori giornate"
   ]
  },
  {
   "cell_type": "code",
   "execution_count": null,
   "id": "002a9bd6",
   "metadata": {},
   "outputs": [],
   "source": [
    "df_e1 = utility.get_df_errors(df, \"Carico totale\", \"Predizione Modello 1\")\n",
    "df_e2 = utility.get_df_errors(df, \"Carico totale\", \"Predizione Modello 2\")\n",
    "df_e3 = utility.get_df_errors(df, \"Carico totale\", \"Predizione Modello 3\")\n",
    "df_e4 = utility.get_df_errors(df, \"Carico totale\", \"Predizione Modello 4\")"
   ]
  },
  {
   "cell_type": "code",
   "execution_count": null,
   "id": "092ee19d",
   "metadata": {},
   "outputs": [],
   "source": [
    "values_df1 = np.round(df_e1[\"mae\"], 2)\n",
    "values_df2 = np.round(df_e2[\"mae\"], 2)\n",
    "values_df3 = np.round(df_e3[\"mae\"], 2)\n",
    "values_df4 = np.round(df_e4[\"mae\"], 2)\n",
    "dff = pd.DataFrame({\n",
    "    \"Modello 1\": values_df1,\n",
    "    \"Modello 2\": values_df2,\n",
    "    \"Modello 3\": values_df3,\n",
    "    \"Modello 4\": values_df4\n",
    "})"
   ]
  },
  {
   "cell_type": "code",
   "execution_count": null,
   "id": "3a9eb490",
   "metadata": {},
   "outputs": [],
   "source": [
    "dff[\"DoW\"] = dff.index.weekday"
   ]
  },
  {
   "cell_type": "code",
   "execution_count": null,
   "id": "971da4ad",
   "metadata": {},
   "outputs": [],
   "source": [
    "dff = dff[dff[\"DoW\"] <= 4]"
   ]
  },
  {
   "cell_type": "code",
   "execution_count": null,
   "id": "e2caff48",
   "metadata": {},
   "outputs": [],
   "source": [
    "dff.sort_values(by=\"Modello 2\")"
   ]
  },
  {
   "cell_type": "code",
   "execution_count": null,
   "id": "c5b37ac1",
   "metadata": {},
   "outputs": [],
   "source": [
    "dfff = dff < 3\n",
    "dfff.sum()"
   ]
  },
  {
   "cell_type": "code",
   "execution_count": null,
   "id": "afb30dc9",
   "metadata": {},
   "outputs": [],
   "source": [
    "counter = 0\n",
    "ft = \"%Y-%m-%d %H:%M:%S\"\n",
    "start = dff.index.min()\n",
    "end = dff.index.max()\n",
    "\n",
    "title = \"Confronto curva di carico e predizione da \" + str(start) + \" a \" + str(end)\n",
    "xlabel = \"Ora\"\n",
    "ylabel = \"W\"\n",
    "dim = (20,7)\n",
    "marker = True\n",
    "fields = [\"Modello 1\", \"Modello 2\", \"Modello 3\", \"Modello 4\"]\n",
    "colors = [\"#9966CC\", \"#FDBA21\", \"#6495ED\", \"#93C572\"]\n",
    "markers = [\"o-\", \"s-\", \"D-\", \"d-\"]\n",
    "ms = 7\n",
    "utility.plot_multiple_distribution(dff, fields, start, end, dim, title, xlabel, ylabel, colors, markers, ms, base_path=None)"
   ]
  },
  {
   "cell_type": "code",
   "execution_count": null,
   "id": "67e87379",
   "metadata": {},
   "outputs": [],
   "source": []
  }
 ],
 "metadata": {
  "kernelspec": {
   "display_name": "Python 3",
   "language": "python",
   "name": "python3"
  },
  "language_info": {
   "codemirror_mode": {
    "name": "ipython",
    "version": 3
   },
   "file_extension": ".py",
   "mimetype": "text/x-python",
   "name": "python",
   "nbconvert_exporter": "python",
   "pygments_lexer": "ipython3",
   "version": "3.8.8"
  }
 },
 "nbformat": 4,
 "nbformat_minor": 5
}
