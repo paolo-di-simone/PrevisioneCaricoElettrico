{
 "cells": [
  {
   "cell_type": "markdown",
   "id": "2b258b57",
   "metadata": {},
   "source": [
    "# Addestramento modelli"
   ]
  },
  {
   "cell_type": "code",
   "execution_count": null,
   "id": "cdc21c84",
   "metadata": {},
   "outputs": [],
   "source": [
    "import warnings\n",
    "import numpy as np\n",
    "import pandas as pd\n",
    "import os\n",
    "import sys"
   ]
  },
  {
   "cell_type": "code",
   "execution_count": null,
   "id": "28192184",
   "metadata": {},
   "outputs": [],
   "source": [
    "warnings.filterwarnings(\"ignore\")\n",
    "sys.path.insert(0, \"..\")"
   ]
  },
  {
   "cell_type": "code",
   "execution_count": null,
   "id": "ee25e026",
   "metadata": {},
   "outputs": [],
   "source": [
    "import utility"
   ]
  },
  {
   "cell_type": "code",
   "execution_count": null,
   "id": "69eea1ed",
   "metadata": {},
   "outputs": [],
   "source": [
    "from sklearn.preprocessing import MinMaxScaler, RobustScaler, OneHotEncoder"
   ]
  },
  {
   "cell_type": "code",
   "execution_count": null,
   "id": "bb35288d",
   "metadata": {},
   "outputs": [],
   "source": [
    "import tensorflow as tf\n",
    "from tensorflow import Tensor \n",
    "from tensorflow.keras.models import Sequential, Model\n",
    "from tensorflow.keras.layers import LSTM, Dropout, Concatenate, Input, GlobalAveragePooling1D\n",
    "from tensorflow.keras.layers import Conv1D, MaxPooling1D, Flatten, Dense, Attention, AdditiveAttention\n",
    "from tensorflow.keras.layers import Activation, BatchNormalization, Add, Embedding\n",
    "from tensorflow.keras.optimizers import Adam\n",
    "from tensorflow.keras.optimizers.schedules import ExponentialDecay\n",
    "from tensorflow.keras.callbacks import ModelCheckpoint\n",
    "from tensorflow.keras.regularizers import L1, L2, L1L2"
   ]
  },
  {
   "cell_type": "code",
   "execution_count": null,
   "id": "9cc71724",
   "metadata": {},
   "outputs": [],
   "source": [
    "from keras import backend as K\n",
    "from keras.callbacks import EarlyStopping\n",
    "from keras.models import load_model\n",
    "from keras.layers.merge import concatenate"
   ]
  },
  {
   "cell_type": "code",
   "execution_count": null,
   "id": "11aed6e8",
   "metadata": {},
   "outputs": [],
   "source": [
    "K.set_epsilon(1)"
   ]
  },
  {
   "cell_type": "code",
   "execution_count": null,
   "id": "94198f06",
   "metadata": {},
   "outputs": [],
   "source": [
    "model_trained_base_path = \"TrainingDirectory\"\n",
    "dataset_path = os.path.join(\"..\", \"Preprocessing\", \"Dataset\", \"dataset_training.csv\")"
   ]
  },
  {
   "cell_type": "markdown",
   "id": "b826c35d",
   "metadata": {},
   "source": [
    "### Import dei dati"
   ]
  },
  {
   "cell_type": "code",
   "execution_count": null,
   "id": "85194f01",
   "metadata": {},
   "outputs": [],
   "source": [
    "df = utility.import_dataset(dataset_path, \"2021\", \"2023\")\n",
    "display(df)"
   ]
  },
  {
   "cell_type": "markdown",
   "id": "b69b0dea",
   "metadata": {},
   "source": [
    "### OneHot encoding e normalizzazione"
   ]
  },
  {
   "cell_type": "code",
   "execution_count": null,
   "id": "19cc20d6",
   "metadata": {},
   "outputs": [],
   "source": [
    "df, scaler = utility.processing_dataset(df)"
   ]
  },
  {
   "cell_type": "markdown",
   "id": "a60c3716",
   "metadata": {},
   "source": [
    "### Splitting in training, validation e test"
   ]
  },
  {
   "cell_type": "code",
   "execution_count": null,
   "id": "83844208",
   "metadata": {},
   "outputs": [],
   "source": [
    "df_train, df_validation, df_test = utility.split_dataset(df, \"2021-03\", \"2022-04\")"
   ]
  },
  {
   "cell_type": "markdown",
   "id": "6c0b66c4",
   "metadata": {},
   "source": [
    "### Model 1 - PAPER0 - LSTMwithoutOtherFeature"
   ]
  },
  {
   "cell_type": "code",
   "execution_count": null,
   "id": "3433ffed",
   "metadata": {},
   "outputs": [],
   "source": [
    "def create_model_1():\n",
    "\n",
    "    dropout_rate = 0.3\n",
    "    regularizer = None\n",
    "    learning_rate = 0.0001\n",
    "    \n",
    "    batch_size = 256\n",
    "\n",
    "    time_steps = 24 * 7\n",
    "    dim_other_feature = 24 + 7 + 12 + 1\n",
    "    \n",
    "    model = Sequential()\n",
    "    model.add(Input(shape=(time_steps, 1), name=\"CaricoElettrico\"))\n",
    "    model.add(LSTM(units=128, return_sequences=True, activity_regularizer=regularizer, name=\"LSTM_1\"))\n",
    "    model.add(LSTM(units=128, activity_regularizer=regularizer, name =\"LSTM_2\"))\n",
    "    model.add(Dropout(rate=dropout_rate, name=\"Dropout\"))\n",
    "    model.add(Dense(units=1, activation=\"linear\", name=\"Predizione\"))\n",
    "    \n",
    "    # Compiling\n",
    "    model.compile(optimizer=Adam(learning_rate=learning_rate), loss=\"mse\", metrics=[\"mape\"])\n",
    "    \n",
    "    return model, time_steps, batch_size"
   ]
  },
  {
   "cell_type": "markdown",
   "id": "4a40c18b",
   "metadata": {},
   "source": [
    "### Model 2 - PAPER12 - LSTMwithOtherFeature"
   ]
  },
  {
   "cell_type": "code",
   "execution_count": null,
   "id": "080548f8",
   "metadata": {},
   "outputs": [],
   "source": [
    "def create_model_2():\n",
    "    \n",
    "    dropout_rate = 0.4\n",
    "    regularizer = L2(0.1)\n",
    "    learning_rate = 0.0001\n",
    "    \n",
    "    batch_size = 128\n",
    "\n",
    "    time_steps = 24 * 3\n",
    "    dim_other_feature = 24 + 7 + 12 + 1\n",
    "    \n",
    "    # Pipeline LOAD\n",
    "    input_load = Input(shape=(time_steps, 1), name=\"CaricoElettrico\")\n",
    "    lstm_layer = LSTM(64, return_sequences=False, activity_regularizer=regularizer, name=\"LSTM\")(input_load)\n",
    "    dropout1 = Dropout(rate=dropout_rate, name=\"Dropout_1\")(lstm_layer)\n",
    "\n",
    "    # Pipeline OTHER FEATURE\n",
    "    input_other_feature = Input(shape=(dim_other_feature, ), name=\"FeatureAggiuntive\")\n",
    "    dense1 = Dense(64, activation=\"relu\", activity_regularizer=regularizer, name=\"FC_1\")(input_other_feature)\n",
    "    dropout2 = Dropout(rate=dropout_rate, name=\"Dropout_2\")(dense1)\n",
    "\n",
    "    # Concatenate PIPLINES\n",
    "    concatenated_layer = concatenate([dropout1, dropout2], axis=1)\n",
    "    dense2 = Dense(64, activation=\"relu\", activity_regularizer=regularizer, name=\"FC_2\")(concatenated_layer)\n",
    "    dropout3 = Dropout(rate=dropout_rate, name=\"Dropout_3\")(dense2)\n",
    "    output_layer = Dense(1, activation=\"linear\", activity_regularizer=regularizer, name=\"Predizione\")(dropout3)\n",
    "    model = Model(inputs=[input_load, input_other_feature], outputs=[output_layer])\n",
    "    \n",
    "    # Compiling\n",
    "    model.compile(optimizer=Adam(learning_rate=learning_rate), loss=\"mse\", metrics=[\"mape\"])\n",
    "    \n",
    "    return model, time_steps, batch_size"
   ]
  },
  {
   "cell_type": "markdown",
   "id": "2200f6d8",
   "metadata": {},
   "source": [
    "### Model 3 - PAPER13 - Conv1D + LSTM"
   ]
  },
  {
   "cell_type": "code",
   "execution_count": null,
   "id": "7b493b17",
   "metadata": {},
   "outputs": [],
   "source": [
    "def create_model_3():\n",
    "    \n",
    "    dropout_rate = 0.5\n",
    "    regularizer = L2(0.001)\n",
    "    learning_rate = 0.0001\n",
    "    \n",
    "    batch_size = 64\n",
    "\n",
    "    time_steps = 24 * 3\n",
    "    dim_other_feature = 24 + 7 + 12 + 1\n",
    "    \n",
    "    # Pipeline LOAD\n",
    "    input_load = Input(shape=(time_steps, 1), name=\"CaricoElettrico\")\n",
    "\n",
    "    # Pipeline 1\n",
    "    branch1_1 = Conv1D(filters=64, kernel_size=3, activation=\"relu\", activity_regularizer=regularizer, name=\"Conv_1\")(input_load)\n",
    "    branch1_2 = MaxPooling1D(pool_size=2, strides=2, name=\"MaxPool_1\")(branch1_1)\n",
    "\n",
    "    # Pipeline 2\n",
    "    branch2_1 = Conv1D(filters=64, kernel_size=5, activation=\"relu\", activity_regularizer=regularizer, name=\"Conv_2\")(input_load)\n",
    "    branch2_2 = MaxPooling1D(pool_size=2, strides=2, name=\"MaxPool_2\")(branch2_1)\n",
    "\n",
    "    # Pipeline 3\n",
    "    branch3_1 = Conv1D(filters=64, kernel_size=7, activation=\"relu\", activity_regularizer=regularizer, name=\"Conv_3\")(input_load)\n",
    "    branch3_2 = MaxPooling1D(pool_size=2, strides=2, name=\"MaxPool_3\")(branch3_1)\n",
    "\n",
    "    # Concatenate pipelines LOAD\n",
    "    concatenated_layer1 = concatenate([branch1_2,branch2_2,branch3_2], axis=1)\n",
    "    lstm_layer = LSTM(64, return_sequences=True, activity_regularizer=regularizer, name=\"LSTM\")(concatenated_layer1)\n",
    "    global_average_pooling_layer = GlobalAveragePooling1D(name=\"GlobalAveragePooling\")(lstm_layer)\n",
    "\n",
    "    # Pipeline OTHER FEATURE\n",
    "    input_other_feature = Input(shape=(dim_other_feature, ), name=\"FeatureAggiuntive\")\n",
    "    dense1 = Dense(64, activation=\"relu\", activity_regularizer=regularizer, name=\"FC_1\")(input_other_feature)\n",
    "    dropout1 = Dropout(rate=dropout_rate, name=\"Dropout_1\")(dense1)\n",
    "    flatten1 = Flatten()(dropout1)\n",
    "\n",
    "    # Concatenate PIPLINES\n",
    "    concatenated_layer2 = concatenate([global_average_pooling_layer,flatten1], axis=1)\n",
    "    dense2 = Dense(64, activation=\"relu\", activity_regularizer=regularizer, name=\"FC_2\")(concatenated_layer2)\n",
    "    dropout2 = Dropout(rate=dropout_rate, name=\"Dropout_2\")(dense2)\n",
    "    dense3 = Dense(64, activation=\"relu\", activity_regularizer=regularizer, name=\"FC_3\")(dropout2)\n",
    "    dropout3 = Dropout(rate=dropout_rate, name=\"Dropout_3\")(dense3)\n",
    "    output_layer = Dense(1, activation=\"linear\", activity_regularizer=regularizer, name=\"Predizione\")(dropout3)\n",
    "    model = Model(inputs=[input_load, input_other_feature], outputs=[output_layer])\n",
    "    \n",
    "    # Compiling\n",
    "    model.compile(optimizer=Adam(learning_rate=learning_rate), loss=\"mse\", metrics=[\"mape\"])\n",
    "    \n",
    "    return model, time_steps, batch_size"
   ]
  },
  {
   "cell_type": "markdown",
   "id": "a2458b2e",
   "metadata": {},
   "source": [
    "### Model 4 - PAPER18 - Wavenet"
   ]
  },
  {
   "cell_type": "code",
   "execution_count": null,
   "id": "e8d97610",
   "metadata": {},
   "outputs": [],
   "source": [
    "def create_model_4():\n",
    "       \n",
    "    dropout_rate = 0.3\n",
    "    regularizer = None\n",
    "    learning_rate = 0.0001\n",
    "    \n",
    "    batch_size = 128\n",
    "\n",
    "    time_steps = 24 * 5\n",
    "    dim_other_feature = 24 + 7 + 12 + 1\n",
    "    \n",
    "    # Pipeline LOAD\n",
    "    input_load = Input(shape=(time_steps, 1), name=\"CaricoElettrico\")\n",
    "    x = input_load\n",
    "    for rate in (1, 2, 4, 8, 16, 32):\n",
    "        x = Conv1D(filters=32, kernel_size=2, strides=1, padding=\"causal\", activation=\"relu\", dilation_rate=rate,\n",
    "                  activity_regularizer=regularizer, name=\"Conv_\"+str(rate))(x)\n",
    "    flatten = Flatten()(x)\n",
    "\n",
    "    # Pipeline OTHER FEATURE\n",
    "    input_other_feature = Input(shape=(dim_other_feature, ), name=\"FeaturAggiuntive\")\n",
    "\n",
    "    # Concatenate PIPLINES\n",
    "    concatenated_layer = concatenate([flatten, input_other_feature], axis=1)\n",
    "    dropout1 = Dropout(rate=dropout_rate, name=\"Dropout_1\")(concatenated_layer)\n",
    "    dense = Dense(64, activation=\"relu\", activity_regularizer=regularizer, name=\"FC\")(dropout1)\n",
    "    dropout2 = Dropout(rate=dropout_rate, name=\"Dropout_2\")(dense)\n",
    "    output_layer = Dense(1, activation=\"linear\", activity_regularizer=regularizer, name=\"Predizione\")(dropout2)\n",
    "    model = Model(inputs=[input_load, input_other_feature], outputs=[output_layer])\n",
    "    \n",
    "    # Compiling\n",
    "    model.compile(optimizer=Adam(learning_rate=learning_rate), loss=\"mse\", metrics=[\"mape\"])\n",
    "    \n",
    "    return model, time_steps, batch_size"
   ]
  },
  {
   "cell_type": "markdown",
   "id": "87c623cc",
   "metadata": {},
   "source": [
    "### Training model"
   ]
  },
  {
   "cell_type": "code",
   "execution_count": null,
   "id": "153a6dcb",
   "metadata": {
    "scrolled": false
   },
   "outputs": [],
   "source": [
    "base_path = os.path.join(model_trained_base_path, \"model2\")\n",
    "os.mkdir(base_path)\n",
    "model_path = os.path.join(base_path, \"weights-model.h5\")\n",
    "history_path = os.path.join(base_path, \"history-model.json\")"
   ]
  },
  {
   "cell_type": "code",
   "execution_count": null,
   "id": "514565a7",
   "metadata": {},
   "outputs": [],
   "source": [
    "epochs = 200\n",
    "patience = 5"
   ]
  },
  {
   "cell_type": "code",
   "execution_count": null,
   "id": "2078ef8b",
   "metadata": {},
   "outputs": [],
   "source": [
    "model, time_steps, batch_size = create_model_4()"
   ]
  },
  {
   "cell_type": "code",
   "execution_count": null,
   "id": "16d6d934",
   "metadata": {},
   "outputs": [],
   "source": [
    "model.summary()"
   ]
  },
  {
   "cell_type": "code",
   "execution_count": null,
   "id": "d6e25659",
   "metadata": {},
   "outputs": [],
   "source": [
    "train = utility.windowed_dataset(df_train, time_steps)\n",
    "validation = utility.windowed_dataset(df_validation, time_steps)\n",
    "test = utility.windowed_dataset(df_test, time_steps)"
   ]
  },
  {
   "cell_type": "code",
   "execution_count": null,
   "id": "85f7f856",
   "metadata": {},
   "outputs": [],
   "source": [
    "early_stopping = EarlyStopping(monitor=\"val_mape\", patience=patience)\n",
    "\n",
    "history = model.fit(\n",
    "    utility.get_x(train, \"CaricoTotale\"), utility.get_y(train, \"CaricoTotale\"), \n",
    "    epochs=epochs, \n",
    "    verbose=1, \n",
    "    callbacks=[early_stopping],\n",
    "    batch_size=batch_size, \n",
    "    validation_data=(utility.get_x(validation, \"CaricoTotale\"), utility.get_y(validation, \"CaricoTotale\")), \n",
    "    shuffle=False\n",
    ")\n",
    "\n",
    "history = history.history\n",
    "utility.save_history(history, history_path)\n",
    "model.save(model_path)"
   ]
  },
  {
   "cell_type": "code",
   "execution_count": null,
   "id": "842d0058",
   "metadata": {},
   "outputs": [],
   "source": []
  }
 ],
 "metadata": {
  "kernelspec": {
   "display_name": "Python 3",
   "language": "python",
   "name": "python3"
  },
  "language_info": {
   "codemirror_mode": {
    "name": "ipython",
    "version": 3
   },
   "file_extension": ".py",
   "mimetype": "text/x-python",
   "name": "python",
   "nbconvert_exporter": "python",
   "pygments_lexer": "ipython3",
   "version": "3.8.8"
  }
 },
 "nbformat": 4,
 "nbformat_minor": 5
}
