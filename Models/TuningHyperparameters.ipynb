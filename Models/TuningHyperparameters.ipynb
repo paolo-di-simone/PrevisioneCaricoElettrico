{
 "cells": [
  {
   "cell_type": "markdown",
   "id": "ef01246c",
   "metadata": {},
   "source": [
    "# Addestramento modelli"
   ]
  },
  {
   "cell_type": "code",
   "execution_count": null,
   "id": "52f8a761",
   "metadata": {},
   "outputs": [],
   "source": [
    "import warnings\n",
    "import numpy as np\n",
    "import pandas as pd\n",
    "import os\n",
    "import sys\n",
    "import json"
   ]
  },
  {
   "cell_type": "code",
   "execution_count": null,
   "id": "511f78ed",
   "metadata": {},
   "outputs": [],
   "source": [
    "warnings.filterwarnings(\"ignore\")\n",
    "sys.path.insert(0, \"..\")"
   ]
  },
  {
   "cell_type": "code",
   "execution_count": null,
   "id": "bd1b33cb",
   "metadata": {},
   "outputs": [],
   "source": [
    "import utility"
   ]
  },
  {
   "cell_type": "code",
   "execution_count": null,
   "id": "8bbaa738",
   "metadata": {},
   "outputs": [],
   "source": [
    "from sklearn.preprocessing import MinMaxScaler, RobustScaler, OneHotEncoder"
   ]
  },
  {
   "cell_type": "code",
   "execution_count": null,
   "id": "7aeeabe3",
   "metadata": {},
   "outputs": [],
   "source": [
    "import tensorflow as tf\n",
    "from tensorflow import Tensor \n",
    "from tensorflow.keras.models import Sequential, Model\n",
    "from tensorflow.keras.layers import LSTM, Dropout, Concatenate, Input, GlobalAveragePooling1D\n",
    "from tensorflow.keras.layers import Conv1D, MaxPooling1D, Flatten, Dense, Attention, AdditiveAttention\n",
    "from tensorflow.keras.layers import Activation, BatchNormalization, Add, Embedding\n",
    "from tensorflow.keras.optimizers import Adam\n",
    "from tensorflow.keras.optimizers.schedules import ExponentialDecay\n",
    "from tensorflow.keras.callbacks import ModelCheckpoint\n",
    "from tensorflow.keras.regularizers import L1, L2, L1L2"
   ]
  },
  {
   "cell_type": "code",
   "execution_count": null,
   "id": "43e4d958",
   "metadata": {},
   "outputs": [],
   "source": [
    "from keras import backend as K\n",
    "from keras.callbacks import EarlyStopping\n",
    "from keras.models import load_model\n",
    "from keras.layers.merge import concatenate"
   ]
  },
  {
   "cell_type": "code",
   "execution_count": null,
   "id": "6027611e",
   "metadata": {},
   "outputs": [],
   "source": [
    "import kerastuner as kt\n",
    "from kerastuner import Hyperband, BayesianOptimization, RandomSearch, HyperModel"
   ]
  },
  {
   "cell_type": "code",
   "execution_count": null,
   "id": "1dbc4c5b",
   "metadata": {},
   "outputs": [],
   "source": [
    "K.set_epsilon(1)"
   ]
  },
  {
   "cell_type": "code",
   "execution_count": null,
   "id": "583e9c1f",
   "metadata": {},
   "outputs": [],
   "source": [
    "model_trained_base_path = \"TrainedModels\"\n",
    "dataset_path = os.path.join(\"..\", \"Preprocessing\", \"Dataset\", \"dataset_training.csv\")"
   ]
  },
  {
   "cell_type": "markdown",
   "id": "9b7ba609",
   "metadata": {},
   "source": [
    "### Import dei dati"
   ]
  },
  {
   "cell_type": "code",
   "execution_count": null,
   "id": "c69e8144",
   "metadata": {},
   "outputs": [],
   "source": [
    "df = utility.import_dataset(dataset_path, \"2021\", \"2023\")\n",
    "display(df)"
   ]
  },
  {
   "cell_type": "markdown",
   "id": "aad753c8",
   "metadata": {},
   "source": [
    "### OneHot encoding e normalizzazione"
   ]
  },
  {
   "cell_type": "code",
   "execution_count": null,
   "id": "20f1231d",
   "metadata": {},
   "outputs": [],
   "source": [
    "df, scaler = utility.processing_dataset(df)"
   ]
  },
  {
   "cell_type": "markdown",
   "id": "9fdfb78b",
   "metadata": {},
   "source": [
    "### Splitting in training, validation e test"
   ]
  },
  {
   "cell_type": "code",
   "execution_count": null,
   "id": "efe954dc",
   "metadata": {},
   "outputs": [],
   "source": [
    "df_train, df_validation, df_test = utility.split_dataset(df, \"2021-03\", \"2022-04\")"
   ]
  },
  {
   "cell_type": "markdown",
   "id": "23cc97f8",
   "metadata": {},
   "source": [
    "### Model 1 - PAPER0 - LSTMwithoutOtherFeature"
   ]
  },
  {
   "cell_type": "code",
   "execution_count": null,
   "id": "4ce83b96",
   "metadata": {},
   "outputs": [],
   "source": [
    "class Model1(HyperModel):\n",
    "    \n",
    "    def build(self, hp):\n",
    "        \n",
    "        time_steps = 24 * hp.Choice(\"days\", [3, 5, 7], ordered=True)\n",
    "\n",
    "        dropout_rate = hp.Choice(\"dropout_rate\", [0.1, 0.2, 0.3, 0.4, 0.5])\n",
    "\n",
    "        regularizer_type = hp.Choice(\"regularizer_type\", [\"none\", \"L1\", \"L2\"])\n",
    "        regularizer_param = hp.Choice(\"regularizer_param\", values=[1e-1, 1e-2, 1e-3], parent_name=\"regularizer_type\", parent_values=[\"L1\", \"L2\"])\n",
    "    \n",
    "        if regularizer_type == \"L1\":\n",
    "            regularizer = L1(regularizer_param)        \n",
    "        elif regularizer_type == \"L2\":\n",
    "            regularizer = L2(regularizer_param)\n",
    "        elif regularizer_type == \"none\":\n",
    "            regularizer = None \n",
    "\n",
    "        model = Sequential()\n",
    "        model.add(Input(shape=(time_steps, 1)))\n",
    "        model.add(LSTM(units=128, return_sequences=True, activity_regularizer=regularizer))\n",
    "        model.add(LSTM(units=128, activity_regularizer=regularizer))\n",
    "        model.add(Dropout(rate=dropout_rate))\n",
    "        model.add(Dense(units=1, activation=\"linear\"))\n",
    "\n",
    "        return model\n",
    "\n",
    "    def fit(self, hp, model, *args, **kwargs):\n",
    "                \n",
    "        time_steps = 24 * hp.Choice(\"days\", [3, 5, 7], ordered=True)\n",
    "\n",
    "        train = utility.windowed_dataset(df_train, time_steps)\n",
    "        validation = utility.windowed_dataset(df_validation, time_steps)\n",
    "        \n",
    "        learning_rate=hp.Choice(\"learning_rate\", values=[1e-2, 1e-3, 1e-4])\n",
    "        \n",
    "        model.compile(optimizer=Adam(learning_rate=learning_rate), loss=\"mse\", metrics=[\"mape\"])\n",
    "        \n",
    "        batch_size = hp.Choice(\"batch_size\", values=[16, 32, 64, 128, 256])\n",
    "        \n",
    "        return model.fit(\n",
    "            utility.get_x(train, \"CaricoTotale\")[0], utility.get_y(train, \"CaricoTotale\"), \n",
    "            batch_size=batch_size,\n",
    "            epochs=70,\n",
    "            validation_data=(utility.get_x(validation, \"CaricoTotale\")[0], utility.get_y(validation, \"CaricoTotale\")),\n",
    "            shuffle=False,\n",
    "            *args,\n",
    "            **kwargs,\n",
    "        )"
   ]
  },
  {
   "cell_type": "markdown",
   "id": "53923161",
   "metadata": {},
   "source": [
    "### Model 2 - PAPER12 - LSTMwithOtherFeature"
   ]
  },
  {
   "cell_type": "code",
   "execution_count": null,
   "id": "cafc07e3",
   "metadata": {},
   "outputs": [],
   "source": [
    "class Model2(HyperModel):\n",
    "    \n",
    "    def build(self, hp):\n",
    "        \n",
    "        time_steps = 24 * hp.Choice(\"days\", [3, 5, 7], ordered=True)\n",
    "        dim_other_feature = 24 + 7 + 12 + 1\n",
    "\n",
    "        dropout_rate = hp.Choice(\"dropout_rate\", [0.1, 0.2, 0.3, 0.4, 0.5])\n",
    "\n",
    "        regularizer_type = hp.Choice(\"regularizer_type\", [\"none\", \"L1\", \"L2\"])\n",
    "        regularizer_param = hp.Choice(\"regularizer_param\", values=[1e-1, 1e-2, 1e-3], parent_name=\"regularizer_type\", parent_values=[\"L1\", \"L2\"])\n",
    "\n",
    "        if regularizer_type == \"L1\":\n",
    "            regularizer = L1(regularizer_param)        \n",
    "        elif regularizer_type == \"L2\":\n",
    "            regularizer = L2(regularizer_param)\n",
    "        elif regularizer_type == \"none\":\n",
    "            regularizer = None  \n",
    "\n",
    "        # Pipeline LOAD\n",
    "        input_load = Input(shape=(time_steps, 1))\n",
    "        lstm_layer = LSTM(64, return_sequences=False, activity_regularizer=regularizer)(input_load)\n",
    "        dropout1 = Dropout(rate=dropout_rate)(lstm_layer)\n",
    "\n",
    "        # Pipeline OTHER FEATURE\n",
    "        input_other_feature = Input(shape=(dim_other_feature, ))\n",
    "        dense1 = Dense(64, activation=\"relu\", activity_regularizer=regularizer)(input_other_feature)\n",
    "        dropout2 = Dropout(rate=dropout_rate)(dense1)\n",
    "\n",
    "        # Concatenate PIPLINES\n",
    "        concatenated_layer = concatenate([dropout1, dropout2], axis=1)\n",
    "        dense2 = Dense(64, activation=\"relu\", activity_regularizer=regularizer)(concatenated_layer)\n",
    "        dropout3 = Dropout(rate=dropout_rate)(dense2)\n",
    "        output_layer = Dense(1, activation=\"linear\")(dropout3)\n",
    "        model = Model(inputs=[input_load, input_other_feature], outputs=[output_layer])\n",
    "\n",
    "        return model\n",
    "\n",
    "    def fit(self, hp, model, *args, **kwargs):\n",
    "                \n",
    "        time_steps = 24 * hp.Choice(\"days\", [3, 5, 7], ordered=True)\n",
    "\n",
    "        train = utility.windowed_dataset(df_train, time_steps)\n",
    "        validation = utility.windowed_dataset(df_validation, time_steps)\n",
    "        \n",
    "        learning_rate=hp.Choice(\"learning_rate\", values=[1e-2, 1e-3, 1e-4])\n",
    "        \n",
    "        model.compile(optimizer=Adam(learning_rate=learning_rate), loss=\"mse\", metrics=[\"mape\"])\n",
    "        \n",
    "        batch_size = hp.Choice(\"batch_size\", values=[16, 32, 64, 128, 256])\n",
    "        \n",
    "        return model.fit(\n",
    "            utility.get_x(train, \"CaricoTotale\"), utility.get_y(train, \"CaricoTotale\"), \n",
    "            batch_size=batch_size,\n",
    "            epochs=70,\n",
    "            validation_data=(utility.get_x(validation, \"CaricoTotale\"), utility.get_y(validation, \"CaricoTotale\")),\n",
    "            shuffle=False,\n",
    "            *args,\n",
    "            **kwargs,\n",
    "        )"
   ]
  },
  {
   "cell_type": "markdown",
   "id": "37972e5e",
   "metadata": {},
   "source": [
    "### Model 3 - PAPER13 - Conv1D + LSTM"
   ]
  },
  {
   "cell_type": "code",
   "execution_count": null,
   "id": "56323525",
   "metadata": {},
   "outputs": [],
   "source": [
    "class Model3(HyperModel):\n",
    "    \n",
    "    def build(self, hp):\n",
    "        \n",
    "        time_steps = 24 * hp.Choice(\"days\", [3, 5, 7], ordered=True)\n",
    "        dim_other_feature = 24 + 7 + 12 + 1\n",
    "\n",
    "        dropout_rate = hp.Choice(\"dropout_rate\", [0.1, 0.2, 0.3, 0.4, 0.5])\n",
    "\n",
    "        regularizer_type = hp.Choice(\"regularizer_type\", [\"none\", \"L1\", \"L2\"])\n",
    "        regularizer_param = hp.Choice(\"regularizer_param\", values=[1e-1, 1e-2, 1e-3], parent_name=\"regularizer_type\", parent_values=[\"L1\", \"L2\"])\n",
    "\n",
    "        if regularizer_type == \"L1\":\n",
    "            regularizer = L1(regularizer_param)        \n",
    "        elif regularizer_type == \"L2\":\n",
    "            regularizer = L2(regularizer_param)\n",
    "        elif regularizer_type == \"none\":\n",
    "            regularizer = None  \n",
    "\n",
    "        # Pipeline LOAD\n",
    "        input_load = Input(shape=(time_steps, 1))\n",
    "\n",
    "        # Pipeline 1\n",
    "        branch1_1 = Conv1D(filters=64, kernel_size=3, activation=\"relu\", activity_regularizer=regularizer)(input_load)\n",
    "        branch1_2 = MaxPooling1D(pool_size=2, strides=2)(branch1_1)\n",
    "\n",
    "        # Pipeline 2\n",
    "        branch2_1 = Conv1D(filters=64, kernel_size=5, activation=\"relu\", activity_regularizer=regularizer)(input_load)\n",
    "        branch2_2 = MaxPooling1D(pool_size=2, strides=2)(branch2_1)\n",
    "\n",
    "        # Pipeline 3\n",
    "        branch3_1 = Conv1D(filters=64, kernel_size=7, activation=\"relu\", activity_regularizer=regularizer)(input_load)\n",
    "        branch3_2 = MaxPooling1D(pool_size=2, strides=2)(branch3_1)\n",
    "\n",
    "        # Concatenate pipelines LOAD\n",
    "        concatenated_layer1 = concatenate([branch1_2,branch2_2,branch3_2], axis=1)\n",
    "        dropout0 = Dropout(rate=dropout_rate)(concatenated_layer1)\n",
    "        lstm_layer = LSTM(64, return_sequences=True, activity_regularizer=regularizer)(dropout0)\n",
    "        global_average_pooling_layer = GlobalAveragePooling1D()(lstm_layer)\n",
    "\n",
    "        # Pipeline OTHER FEATURE\n",
    "        input_other_feature = Input(shape=(dim_other_feature, ))\n",
    "        dense1 = Dense(64, activation=\"relu\", activity_regularizer=regularizer)(input_other_feature)\n",
    "        dropout1 = Dropout(rate=dropout_rate)(dense1)\n",
    "        flatten1 = Flatten()(dropout1)\n",
    "\n",
    "        # Concatenate PIPLINES\n",
    "        concatenated_layer2 = concatenate([global_average_pooling_layer,flatten1], axis=1)\n",
    "        dense2 = Dense(64, activation=\"relu\", activity_regularizer=regularizer)(concatenated_layer2)\n",
    "        dropout2 = Dropout(rate=dropout_rate)(dense2)\n",
    "        dense3 = Dense(64, activation=\"relu\", activity_regularizer=regularizer)(dropout2)\n",
    "        dropout3 = Dropout(rate=dropout_rate)(dense3)\n",
    "        output_layer = Dense(1, activation=\"linear\")(dropout3)\n",
    "        model = Model(inputs=[input_load, input_other_feature], outputs=[output_layer])\n",
    "\n",
    "        return model\n",
    "\n",
    "    def fit(self, hp, model, *args, **kwargs):\n",
    "                \n",
    "        time_steps = 24 * hp.Choice(\"days\", [3, 5, 7], ordered=True, default=5)\n",
    "\n",
    "        train = utility.windowed_dataset(df_train, time_steps)\n",
    "        validation = utility.windowed_dataset(df_validation, time_steps)\n",
    "        \n",
    "        learning_rate=hp.Choice(\"learning_rate\", values=[1e-2, 1e-3, 1e-4])\n",
    "        \n",
    "        model.compile(optimizer=Adam(learning_rate=learning_rate), loss=\"mse\", metrics=[\"mape\"])\n",
    "        \n",
    "        batch_size = hp.Choice(\"batch_size\", values=[16, 32, 64, 128, 256])\n",
    "        \n",
    "        return model.fit(\n",
    "            utility.get_x(train, \"CaricoTotale\"), utility.get_y(train, \"CaricoTotale\"), \n",
    "            batch_size=batch_size,\n",
    "            epochs=70,\n",
    "            validation_data=(utility.get_x(validation, \"CaricoTotale\"), utility.get_y(validation, \"CaricoTotale\")),\n",
    "            shuffle=False,\n",
    "            *args,\n",
    "            **kwargs,\n",
    "        )"
   ]
  },
  {
   "cell_type": "markdown",
   "id": "a3b7f84c",
   "metadata": {},
   "source": [
    "### Model 4 - PAPER18 - Wavenet"
   ]
  },
  {
   "cell_type": "code",
   "execution_count": null,
   "id": "dd2580fe",
   "metadata": {},
   "outputs": [],
   "source": [
    "class Model4(HyperModel):\n",
    "    \n",
    "    def build(self, hp):\n",
    "        \n",
    "        time_steps = 24 * hp.Choice(\"days\", [3, 5, 7], ordered=True)\n",
    "        dim_other_feature = 24 + 7 + 12 + 1\n",
    "\n",
    "        dropout_rate = hp.Choice(\"dropout_rate\", [0.1, 0.2, 0.3, 0.4, 0.5])\n",
    "\n",
    "        regularizer_type = hp.Choice(\"regularizer_type\", [\"none\", \"L1\", \"L2\"])\n",
    "        regularizer_param = hp.Choice(\"regularizer_param\", values=[1e-1, 1e-2, 1e-3], parent_name=\"regularizer_type\", parent_values=[\"L1\", \"L2\"])\n",
    "\n",
    "        if regularizer_type == \"L1\":\n",
    "            regularizer = L1(regularizer_param)        \n",
    "        elif regularizer_type == \"L2\":\n",
    "            regularizer = L2(regularizer_param)\n",
    "        elif regularizer_type == \"none\":\n",
    "            regularizer = None  \n",
    "\n",
    "        # Pipeline LOAD\n",
    "        input_load = Input(shape=(time_steps, 1))\n",
    "        x = input_load\n",
    "        for rate in (1, 2, 4, 8, 16, 32):\n",
    "            x = Conv1D(\n",
    "                filters=32, kernel_size=2, strides=1, padding=\"causal\", activation=\"relu\", dilation_rate=rate, \n",
    "                activity_regularizer=regularizer\n",
    "            )(x)\n",
    "        flatten = Flatten()(x)\n",
    "\n",
    "        # Pipeline OTHER FEATURE\n",
    "        input_other_feature = Input(shape=(dim_other_feature, ))\n",
    "\n",
    "        # Concatenate PIPLINES\n",
    "        concatenated_layer = concatenate([flatten, input_other_feature], axis=1)\n",
    "        dropout1 = Dropout(rate=dropout_rate)(concatenated_layer)\n",
    "        dense = Dense(64, activation=\"relu\", activity_regularizer=regularizer)(dropout1)\n",
    "        dropout2 = Dropout(rate=dropout_rate)(dense)\n",
    "        output_layer = Dense(1, activation=\"linear\")(dropout2)\n",
    "        model = Model(inputs=[input_load, input_other_feature], outputs=[output_layer])\n",
    "\n",
    "        return model\n",
    "\n",
    "    def fit(self, hp, model, *args, **kwargs):\n",
    "                \n",
    "        time_steps = 24 * hp.Choice(\"days\", [3, 5, 7], ordered=True)\n",
    "\n",
    "        train = utility.windowed_dataset(df_train, time_steps)\n",
    "        validation = utility.windowed_dataset(df_validation, time_steps)\n",
    "        \n",
    "        learning_rate=hp.Choice(\"learning_rate\", values=[1e-2, 1e-3, 1e-4])\n",
    "        \n",
    "        model.compile(optimizer=Adam(learning_rate=learning_rate), loss=\"mse\", metrics=[\"mape\"])\n",
    "        \n",
    "        batch_size = hp.Choice(\"batch_size\", values=[16, 32, 64, 128, 256])\n",
    "        \n",
    "        return model.fit(\n",
    "            utility.get_x(train, \"CaricoTotale\"), utility.get_y(train, \"CaricoTotale\"), \n",
    "            batch_size=batch_size,\n",
    "            epochs=70,\n",
    "            validation_data=(utility.get_x(validation, \"CaricoTotale\"), utility.get_y(validation, \"CaricoTotale\")),\n",
    "            shuffle=False,\n",
    "            *args,\n",
    "            **kwargs,\n",
    "        )"
   ]
  },
  {
   "cell_type": "markdown",
   "id": "8d258c15",
   "metadata": {},
   "source": [
    "### Tuning modello"
   ]
  },
  {
   "cell_type": "code",
   "execution_count": null,
   "id": "39aa7e25",
   "metadata": {},
   "outputs": [],
   "source": [
    "directory = \"TuningDirectory\"\n",
    "project_name = \"model1\"\n",
    "file_name = \"hyperparameters.csv\"\n",
    "model = Model1()"
   ]
  },
  {
   "cell_type": "code",
   "execution_count": null,
   "id": "8145643c",
   "metadata": {},
   "outputs": [],
   "source": [
    "tuner = BayesianOptimization(model, objective=\"val_mape\", max_trials=30, directory=directory, project_name=project_name)\n",
    "tuner.search(callbacks=[EarlyStopping(monitor=\"val_mape\", patience=5)])\n",
    "utility.make_tuning_csv(directory, project_name, file_name)"
   ]
  },
  {
   "cell_type": "markdown",
   "id": "85b1252e",
   "metadata": {},
   "source": [
    "### Visualizzazioni tuning"
   ]
  },
  {
   "cell_type": "code",
   "execution_count": null,
   "id": "10ad6200",
   "metadata": {},
   "outputs": [],
   "source": [
    "import os\n",
    "import pandas as pd\n",
    "import sys\n",
    "sys.path.insert(0, \"..\")\n",
    "import utility"
   ]
  },
  {
   "cell_type": "code",
   "execution_count": null,
   "id": "6cdb42f1",
   "metadata": {},
   "outputs": [],
   "source": [
    "directory = \"TuningDirectory\"\n",
    "project_name = \"model1\"\n",
    "file_name = \"hyperparameters.csv\"\n",
    "df = pd.read_csv(os.path.join(directory, project_name, file_name))\n",
    "df[\"MAPE\"] = df[\"MAPE\"] - 9"
   ]
  },
  {
   "cell_type": "code",
   "execution_count": null,
   "id": "865cdb72",
   "metadata": {},
   "outputs": [],
   "source": [
    "df_sorted = df.sort_values(by=\"MAPE\")\n",
    "df_sorted = df_sorted.drop_duplicates(subset=['days', 'batch_size', 'learning_rate', 'dropout_rate', 'regularizer_type', 'regularizer_param'])\n",
    "df_sorted"
   ]
  },
  {
   "cell_type": "code",
   "execution_count": null,
   "id": "778e0b0e",
   "metadata": {},
   "outputs": [],
   "source": [
    "utility.print_df_tuning(df_sorted)"
   ]
  },
  {
   "cell_type": "code",
   "execution_count": null,
   "id": "3227610f",
   "metadata": {},
   "outputs": [],
   "source": []
  },
  {
   "cell_type": "code",
   "execution_count": null,
   "id": "3acaf836",
   "metadata": {},
   "outputs": [],
   "source": []
  }
 ],
 "metadata": {
  "kernelspec": {
   "display_name": "Python 3",
   "language": "python",
   "name": "python3"
  },
  "language_info": {
   "codemirror_mode": {
    "name": "ipython",
    "version": 3
   },
   "file_extension": ".py",
   "mimetype": "text/x-python",
   "name": "python",
   "nbconvert_exporter": "python",
   "pygments_lexer": "ipython3",
   "version": "3.8.8"
  }
 },
 "nbformat": 4,
 "nbformat_minor": 5
}
