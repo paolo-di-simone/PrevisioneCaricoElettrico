{
 "cells": [
  {
   "cell_type": "markdown",
   "id": "a6408513",
   "metadata": {},
   "source": [
    "# Analisi minimi, massimi, media e deviazione standard"
   ]
  },
  {
   "cell_type": "code",
   "execution_count": null,
   "id": "585a7896",
   "metadata": {},
   "outputs": [],
   "source": [
    "import pandas as pd\n",
    "import os"
   ]
  },
  {
   "cell_type": "code",
   "execution_count": null,
   "id": "0fd44ef2",
   "metadata": {},
   "outputs": [],
   "source": [
    "dataset_path = os.path.join(\"Dataset\", \"dataset_giornaliero.csv\")\n",
    "df = pd.read_csv(dataset_path)"
   ]
  },
  {
   "cell_type": "code",
   "execution_count": null,
   "id": "c593fa0d",
   "metadata": {},
   "outputs": [],
   "source": [
    "df.head()"
   ]
  },
  {
   "cell_type": "code",
   "execution_count": null,
   "id": "460fcf07",
   "metadata": {},
   "outputs": [],
   "source": [
    "single_phase = [\"P_CabinePower_L1\", \"P_HeatPump\", \"P_CabineLight_L3\"]\n",
    "three_phase = [\"P WS Emergency Light\", \"P WS Light\", \"P WS FanCoil\", \"P WS FM\"]\n",
    "\n",
    "fields_sum = [\"PowerL1\", \"PowerL2\", \"PowerL3\", \"TotalPower\"]\n",
    "\n",
    "L1 = [\"P_CabinePower_L1\", \"P L1 WS Emergency Light\", \"P L1 WS Light\", \"P L1 WS FanCoil\", \"P L1 WS FM\"]\n",
    "L2 = [\"P_HeatPump\", \"P L2 WS Emergency Light\", \"P L2 WS Light\", \"P L2 WS FanCoil\", \"P L2 WS FM\"]\n",
    "L3 = [\"P_CabineLight_L3\", \"P L3 WS Emergency Light\", \"P L3 WS Light\", \"P L3 WS FanCoil\", \"P L3 WS FM\"]"
   ]
  },
  {
   "cell_type": "code",
   "execution_count": null,
   "id": "f2a4811e",
   "metadata": {},
   "outputs": [],
   "source": [
    "rounded_describe = df.describe().round(decimals=2)"
   ]
  },
  {
   "cell_type": "code",
   "execution_count": null,
   "id": "6cade539",
   "metadata": {},
   "outputs": [],
   "source": [
    "rounded_describe[fields_sum]"
   ]
  },
  {
   "cell_type": "code",
   "execution_count": null,
   "id": "efc32125",
   "metadata": {},
   "outputs": [],
   "source": [
    "rounded_describe[L1]"
   ]
  },
  {
   "cell_type": "code",
   "execution_count": null,
   "id": "373885d1",
   "metadata": {},
   "outputs": [],
   "source": [
    "rounded_describe[L2]"
   ]
  },
  {
   "cell_type": "code",
   "execution_count": null,
   "id": "511320b1",
   "metadata": {},
   "outputs": [],
   "source": [
    "rounded_describe[L3]"
   ]
  },
  {
   "cell_type": "markdown",
   "id": "f52aa92e",
   "metadata": {},
   "source": [
    "# Plot curve di carico"
   ]
  },
  {
   "cell_type": "code",
   "execution_count": null,
   "id": "de8a4173",
   "metadata": {},
   "outputs": [],
   "source": [
    "from scipy.signal import resample\n",
    "import numpy as np\n",
    "from datetime import datetime\n",
    "import plotly.graph_objects as go\n",
    "import matplotlib.pyplot as plt\n",
    "import os\n",
    "import pandas as pd\n",
    "import calendar"
   ]
  },
  {
   "cell_type": "code",
   "execution_count": null,
   "id": "9f7e8ee6",
   "metadata": {},
   "outputs": [],
   "source": [
    "color1 = \"#c8a2c8\" # lilla\n",
    "color2 = \"#6495ed\" # blu fiordaliso\n",
    "color3 = \"#93ccea\" # blu fiordaliso chiaro\n",
    "color4 = \"#000000\" # nero\n",
    "color5 = \"#2271b3\" # blu cielo"
   ]
  },
  {
   "cell_type": "code",
   "execution_count": null,
   "id": "b91b7c43",
   "metadata": {},
   "outputs": [],
   "source": [
    "SECONDS_IN_DAY = 60*60*24\n",
    "SECONDS_IN_MONTH = 60*60*24*31\n",
    "SECONDS_IN_YEAR = 60*60*24*31*12"
   ]
  },
  {
   "cell_type": "code",
   "execution_count": null,
   "id": "3ad031d7",
   "metadata": {},
   "outputs": [],
   "source": [
    "plot_path = os.path.join(\"Plot\", \"PlotDatasetMediato\")\n",
    "plot_path = os.path.join(plot_path, \"DistribuzioneCarichi\")\n",
    "dataset_path = os.path.join(\"Dataset\", \"dataset_giornaliero.csv\")"
   ]
  },
  {
   "cell_type": "code",
   "execution_count": null,
   "id": "c14fee9e",
   "metadata": {},
   "outputs": [],
   "source": [
    "counter = 0\n",
    "def make_path(base_path, file_name):\n",
    "    global counter\n",
    "    counter += 1\n",
    "    file_name = str(counter) + \"-\" + file_name  \n",
    "    return os.path.join(base_path, file_name)"
   ]
  },
  {
   "cell_type": "code",
   "execution_count": null,
   "id": "d54a6b1b",
   "metadata": {},
   "outputs": [],
   "source": [
    "df = pd.read_csv(dataset_path)"
   ]
  },
  {
   "cell_type": "code",
   "execution_count": null,
   "id": "85b1e7e5",
   "metadata": {},
   "outputs": [],
   "source": [
    "def get_x_ticks_from_delta(start, end, len_x):\n",
    "    delta = end - start\n",
    "    delta_s = delta.total_seconds()\n",
    "    delta_s += 1\n",
    "    \n",
    "    if delta_s <= SECONDS_IN_DAY:\n",
    "        step = int(delta_s//60//60) + 1\n",
    "        positions = np.linspace(0,len_x,step)\n",
    "        dist = positions[1] - positions[0]\n",
    "        positions = [x + int(dist//2) for x in positions]\n",
    "        positions = positions[:-1]\n",
    "        labels = [str(i)+\":00\" for i in range(0,len(positions))]\n",
    "        \n",
    "    elif delta_s <= SECONDS_IN_MONTH:\n",
    "        step = int(delta_s//60//60//24) + 1\n",
    "        positions = np.linspace(0,len_x,step)\n",
    "        dist = positions[1] - positions[0]\n",
    "        positions = [x + int(dist//2) for x in positions]\n",
    "        positions = positions[:-1]\n",
    "        labels = [str(i+1) for i in range(0,len(positions))]\n",
    "        \n",
    "    else:\n",
    "        step = int(delta_s//60//60//24//28)\n",
    "        positions = np.linspace(0,len_x,step)\n",
    "        dist = positions[1] - positions[0]\n",
    "        positions = [x + int(dist//2) for x in positions]\n",
    "        positions = positions[:-1]\n",
    "        labels = [str(i+1) for i in range(0,len(positions))]\n",
    "        \n",
    "    return positions, labels"
   ]
  },
  {
   "cell_type": "code",
   "execution_count": null,
   "id": "2b25b91e",
   "metadata": {},
   "outputs": [],
   "source": [
    "def get_data(data, start, end, field):\n",
    "    df_tmp = data[\n",
    "        (data[\"Year\"] >= start.year) & (data[\"Year\"] <= end.year) &\n",
    "        (data[\"Month\"] >= start.month) & (data[\"Month\"] <= end.month) &\n",
    "        (data[\"Day\"] >= start.day) & (data[\"Day\"] <= end.day)\n",
    "    ]\n",
    "    return list(df_tmp[field])"
   ]
  },
  {
   "cell_type": "markdown",
   "id": "0a3b2ef7",
   "metadata": {},
   "source": [
    "### Plot singolo"
   ]
  },
  {
   "cell_type": "code",
   "execution_count": null,
   "id": "45ea956b",
   "metadata": {},
   "outputs": [],
   "source": [
    "def plot_single_load_distribution(data, start, end, field, c1, c2, title, xlabel, ylabel, dim, plot_path):\n",
    "                \n",
    "    plt.figure(figsize=dim) \n",
    "    plt.grid(color=c2, linestyle=\"-\", linewidth=\"0.2\", axis=\"y\")\n",
    "    \n",
    "    plt.title(title)\n",
    "    plt.xlabel(xlabel)\n",
    "    plt.ylabel(ylabel)\n",
    "    \n",
    "    yvalue = get_data(data, start, end, field)\n",
    "    len_x = len(yvalue)\n",
    "    xvalue = [x for x in range(0,len_x)]  \n",
    "    \n",
    "    #plt.axvspan(3, 6, color='red', alpha=0.5)\n",
    "    \n",
    "    positions, labels = get_x_ticks_from_delta(start, end, len_x)\n",
    "    plt.xticks(positions, labels, rotation=45)\n",
    "    \n",
    "    plt.plot(xvalue, yvalue, color=c1, linewidth=\"1.5\")\n",
    "    \n",
    "    file_name = \"\".join(title.lower()).replace(\" \", \"_\")\n",
    "    path = make_path(plot_path, file_name)\n",
    "    plt.savefig(path, bbox_inches='tight', transparent=True)\n",
    "    plt.show()"
   ]
  },
  {
   "cell_type": "code",
   "execution_count": null,
   "id": "5b55f042",
   "metadata": {},
   "outputs": [],
   "source": [
    "start = datetime(2020, 1, 1, 0, 0, 0)\n",
    "end = datetime(2022, 12, 31, 23, 59, 59)\n",
    "title = \"Curva di carico giornaliera\"\n",
    "xlabel = \"TotalPower\"\n",
    "ylabel = \"W\"\n",
    "dim = (30,10)\n",
    "plot_single_load_distribution(df, start, end, \"TotalPower\", color5, color4, title, xlabel, ylabel, dim, plot_path)"
   ]
  },
  {
   "cell_type": "markdown",
   "id": "beea0d32",
   "metadata": {},
   "source": [
    "### Plot multiplo"
   ]
  },
  {
   "cell_type": "code",
   "execution_count": null,
   "id": "5bb0398e",
   "metadata": {},
   "outputs": [],
   "source": [
    "def plot_multiple_load_distribution(data, start, end, fields, c, title, ylabel, dim, plot_path):\n",
    "                \n",
    "    plt.figure(figsize=dim) \n",
    "    plt.grid(color=c, linestyle=\"-\", linewidth=\"0.2\", axis=\"y\")\n",
    "    \n",
    "    plt.title(title)\n",
    "    plt.ylabel(ylabel)\n",
    "    \n",
    "    for field in fields:\n",
    "        yvalue = get_data(data, start, end, field)\n",
    "        len_x = len(yvalue)\n",
    "        xvalue = [x for x in range(0,len_x)]  \n",
    "        plt.plot(xvalue, yvalue, linewidth=\"1.5\", label=field)\n",
    "    \n",
    "    \n",
    "    positions, labels = get_x_ticks_from_delta(start, end, len_x)\n",
    "    plt.xticks(positions, labels, rotation=45)\n",
    "    \n",
    "    plt.legend()\n",
    "    \n",
    "    file_name = \"\".join(title.lower()).replace(\" \", \"_\")\n",
    "    path = make_path(plot_path, file_name)\n",
    "    plt.savefig(path, bbox_inches='tight', transparent=True)\n",
    "    plt.show()"
   ]
  },
  {
   "cell_type": "code",
   "execution_count": null,
   "id": "edad6cea",
   "metadata": {},
   "outputs": [],
   "source": [
    "single_phase = [\"P_CabinePower_L1\", \"P_HeatPump\", \"P_CabineLight_L3\"]\n",
    "three_phase = [\"P WS Emergency Light\", \"P WS Light\", \"P WS FanCoil\", \"P WS FM\"]\n",
    "\n",
    "fields_sum = [\"PowerL1\", \"PowerL2\", \"PowerL3\", \"TotalPower\"]\n",
    "\n",
    "L1 = [\"P_CabinePower_L1\", \"P L1 WS Emergency Light\", \"P L1 WS Light\", \"P L1 WS FanCoil\", \"P L1 WS FM\"]\n",
    "L2 = [\"P_HeatPump\", \"P L2 WS Emergency Light\", \"P L2 WS Light\", \"P L2 WS FanCoil\", \"P L2 WS FM\"]\n",
    "L3 = [\"P_CabineLight_L3\", \"P L3 WS Emergency Light\", \"P L3 WS Light\", \"P L3 WS FanCoil\", \"P L3 WS FM\"]"
   ]
  },
  {
   "cell_type": "code",
   "execution_count": null,
   "id": "6d278cc1",
   "metadata": {},
   "outputs": [],
   "source": [
    "start = datetime(2021, 5, 1, 0, 0, 0)\n",
    "end = datetime(2021, 5, 30, 23, 59, 59)\n",
    "title = \"Curva di carico giornaliera\"\n",
    "ylabel = \"W\"\n",
    "dim = (15,5)\n",
    "plot_multiple_load_distribution(df, start, end, fields_sum, color4, title, ylabel, dim, plot_path)"
   ]
  },
  {
   "cell_type": "code",
   "execution_count": null,
   "id": "fc94dcf9",
   "metadata": {},
   "outputs": [],
   "source": []
  }
 ],
 "metadata": {
  "kernelspec": {
   "display_name": "Python 3",
   "language": "python",
   "name": "python3"
  },
  "language_info": {
   "codemirror_mode": {
    "name": "ipython",
    "version": 3
   },
   "file_extension": ".py",
   "mimetype": "text/x-python",
   "name": "python",
   "nbconvert_exporter": "python",
   "pygments_lexer": "ipython3",
   "version": "3.8.8"
  }
 },
 "nbformat": 4,
 "nbformat_minor": 5
}
