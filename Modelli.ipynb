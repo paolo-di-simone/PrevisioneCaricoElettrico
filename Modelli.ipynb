{
 "cells": [
  {
   "cell_type": "markdown",
   "id": "2b258b57",
   "metadata": {},
   "source": [
    "# Addestramento modelli paper"
   ]
  },
  {
   "cell_type": "code",
   "execution_count": 3,
   "id": "cdc21c84",
   "metadata": {},
   "outputs": [],
   "source": [
    "import warnings\n",
    "warnings.filterwarnings(\"ignore\")"
   ]
  },
  {
   "cell_type": "code",
   "execution_count": 4,
   "id": "950cac6f",
   "metadata": {},
   "outputs": [],
   "source": [
    "import numpy as np\n",
    "import pandas as pd\n",
    "import os"
   ]
  },
  {
   "cell_type": "code",
   "execution_count": 5,
   "id": "8b50de0d",
   "metadata": {},
   "outputs": [],
   "source": [
    "import matplotlib.pyplot as plt"
   ]
  },
  {
   "cell_type": "code",
   "execution_count": 7,
   "id": "6946bcd4",
   "metadata": {},
   "outputs": [
    {
     "name": "stdout",
     "output_type": "stream",
     "text": [
      "Collecting pydot\n",
      "  Downloading pydot-1.4.2-py2.py3-none-any.whl (21 kB)\n",
      "Collecting graphviz\n",
      "  Downloading graphviz-0.20.1-py3-none-any.whl (47 kB)\n",
      "Requirement already satisfied: pyparsing>=2.1.4 in c:\\users\\user\\anaconda3\\lib\\site-packages (from pydot) (2.4.7)\n",
      "Installing collected packages: pydot, graphviz\n",
      "Successfully installed graphviz-0.20.1 pydot-1.4.2\n"
     ]
    }
   ],
   "source": [
    "!pip install pydot graphviz"
   ]
  },
  {
   "cell_type": "code",
   "execution_count": 9,
   "id": "85095505",
   "metadata": {},
   "outputs": [],
   "source": [
    "from sklearn.preprocessing import MinMaxScaler\n",
    "from sklearn.preprocessing import OneHotEncoder\n",
    "from tensorflow.keras.models import Sequential, Model\n",
    "from tensorflow.keras.layers import LSTM, Dropout, Concatenate, Input, GlobalAveragePooling1D\n",
    "from tensorflow.keras.layers import Conv1D, MaxPooling1D, Flatten, Dense\n",
    "from keras.layers.merge import concatenate\n",
    "import tensorflow as tf\n",
    "from tensorflow.keras.optimizers import Adam"
   ]
  },
  {
   "cell_type": "markdown",
   "id": "89d29358",
   "metadata": {},
   "source": [
    "### Definizione funzioni d'utilità"
   ]
  },
  {
   "cell_type": "code",
   "execution_count": 10,
   "id": "f193bc9d",
   "metadata": {},
   "outputs": [],
   "source": [
    "# Funzione per lo split di una sequenza temporale (series), data una percentuale (perc_train)\n",
    "def train_val_split(x, y, perc_train):\n",
    "    time_step = int(len(x) * perc_train / 100)\n",
    "    x_train = x[:time_step]\n",
    "    y_train = y[:time_step]\n",
    "    x_test = x[time_step:]\n",
    "    y_test = y[time_step:]\n",
    "    return x_train, y_train, x_test, y_test"
   ]
  },
  {
   "cell_type": "code",
   "execution_count": 11,
   "id": "7b86ca91",
   "metadata": {},
   "outputs": [],
   "source": [
    "# Funzione per la creazione del dataset di training\n",
    "# window_size_past = lunghezza input (es. con window_size_past=48 si considerano 48 ore, 2 giorni, per la predizione)\n",
    "# window_size_future = lunghezza output (es. con window_size_future=24, vogliamo prevedere il carico delle prossime 24 ore)\n",
    "def windowed_dataset(series, window_size_past, window_size_future, step=24):\n",
    "    x = []\n",
    "    y = []\n",
    "    for i in range(0, len(series)-window_size_past, step):\n",
    "        x.append(series[i:i+window_size_past])\n",
    "        y.append(series[i+window_size_past:i+window_size_past+window_size_future])\n",
    "    return np.array(x), np.array(y)"
   ]
  },
  {
   "cell_type": "code",
   "execution_count": 12,
   "id": "dd89b24b",
   "metadata": {},
   "outputs": [],
   "source": [
    "def plot_predict(values_true, values_predict, c1, c2, title, xlabel, ylabel, dim):\n",
    "                \n",
    "    plt.figure(figsize=dim) \n",
    "    plt.grid(color=c2, linestyle=\"-\", linewidth=\"0.2\", axis=\"y\")\n",
    "    \n",
    "    plt.title(title)\n",
    "    plt.xlabel(xlabel)\n",
    "    plt.ylabel(ylabel)\n",
    "    \n",
    "    len_x = len(values_true)\n",
    "    xvalue = [x for x in range(0,len_x)]  \n",
    "\n",
    "    plt.plot(xvalue, values_true, color=c1, linewidth=\"2\")\n",
    "    plt.plot(xvalue, values_predict, color=\"red\", linewidth=\"2\")\n",
    "    \n",
    "    #file_name = \"\".join(title.lower()).replace(\" \", \"_\")\n",
    "    #path = make_path(plot_path, file_name)\n",
    "    #plt.savefig(path, bbox_inches='tight', transparent=True)\n",
    "    plt.show()"
   ]
  },
  {
   "cell_type": "markdown",
   "id": "b826c35d",
   "metadata": {},
   "source": [
    "### Import dei dati e reshaping"
   ]
  },
  {
   "cell_type": "code",
   "execution_count": 13,
   "id": "19de9f8a",
   "metadata": {},
   "outputs": [
    {
     "data": {
      "text/html": [
       "<div>\n",
       "<style scoped>\n",
       "    .dataframe tbody tr th:only-of-type {\n",
       "        vertical-align: middle;\n",
       "    }\n",
       "\n",
       "    .dataframe tbody tr th {\n",
       "        vertical-align: top;\n",
       "    }\n",
       "\n",
       "    .dataframe thead th {\n",
       "        text-align: right;\n",
       "    }\n",
       "</style>\n",
       "<table border=\"1\" class=\"dataframe\">\n",
       "  <thead>\n",
       "    <tr style=\"text-align: right;\">\n",
       "      <th></th>\n",
       "      <th>Year</th>\n",
       "      <th>Month</th>\n",
       "      <th>Day</th>\n",
       "      <th>Hour</th>\n",
       "      <th>PowerL1</th>\n",
       "      <th>PowerL2</th>\n",
       "      <th>PowerL3</th>\n",
       "      <th>DayOfWeek</th>\n",
       "    </tr>\n",
       "  </thead>\n",
       "  <tbody>\n",
       "    <tr>\n",
       "      <th>0</th>\n",
       "      <td>2020</td>\n",
       "      <td>5</td>\n",
       "      <td>1</td>\n",
       "      <td>0</td>\n",
       "      <td>782.501983</td>\n",
       "      <td>896.650392</td>\n",
       "      <td>773.000000</td>\n",
       "      <td>4</td>\n",
       "    </tr>\n",
       "    <tr>\n",
       "      <th>1</th>\n",
       "      <td>2020</td>\n",
       "      <td>5</td>\n",
       "      <td>1</td>\n",
       "      <td>1</td>\n",
       "      <td>937.390867</td>\n",
       "      <td>888.718967</td>\n",
       "      <td>804.916667</td>\n",
       "      <td>4</td>\n",
       "    </tr>\n",
       "    <tr>\n",
       "      <th>2</th>\n",
       "      <td>2020</td>\n",
       "      <td>5</td>\n",
       "      <td>1</td>\n",
       "      <td>2</td>\n",
       "      <td>785.457063</td>\n",
       "      <td>889.193792</td>\n",
       "      <td>767.041667</td>\n",
       "      <td>4</td>\n",
       "    </tr>\n",
       "    <tr>\n",
       "      <th>3</th>\n",
       "      <td>2020</td>\n",
       "      <td>5</td>\n",
       "      <td>1</td>\n",
       "      <td>3</td>\n",
       "      <td>1035.463429</td>\n",
       "      <td>896.947979</td>\n",
       "      <td>770.708333</td>\n",
       "      <td>4</td>\n",
       "    </tr>\n",
       "    <tr>\n",
       "      <th>4</th>\n",
       "      <td>2020</td>\n",
       "      <td>5</td>\n",
       "      <td>1</td>\n",
       "      <td>4</td>\n",
       "      <td>791.389254</td>\n",
       "      <td>897.279196</td>\n",
       "      <td>770.958333</td>\n",
       "      <td>4</td>\n",
       "    </tr>\n",
       "    <tr>\n",
       "      <th>...</th>\n",
       "      <td>...</td>\n",
       "      <td>...</td>\n",
       "      <td>...</td>\n",
       "      <td>...</td>\n",
       "      <td>...</td>\n",
       "      <td>...</td>\n",
       "      <td>...</td>\n",
       "      <td>...</td>\n",
       "    </tr>\n",
       "    <tr>\n",
       "      <th>18259</th>\n",
       "      <td>2022</td>\n",
       "      <td>5</td>\n",
       "      <td>31</td>\n",
       "      <td>19</td>\n",
       "      <td>1758.702608</td>\n",
       "      <td>2371.511483</td>\n",
       "      <td>1774.948292</td>\n",
       "      <td>1</td>\n",
       "    </tr>\n",
       "    <tr>\n",
       "      <th>18260</th>\n",
       "      <td>2022</td>\n",
       "      <td>5</td>\n",
       "      <td>31</td>\n",
       "      <td>20</td>\n",
       "      <td>1634.401029</td>\n",
       "      <td>1976.749562</td>\n",
       "      <td>1464.862742</td>\n",
       "      <td>1</td>\n",
       "    </tr>\n",
       "    <tr>\n",
       "      <th>18261</th>\n",
       "      <td>2022</td>\n",
       "      <td>5</td>\n",
       "      <td>31</td>\n",
       "      <td>21</td>\n",
       "      <td>1742.510279</td>\n",
       "      <td>1890.756617</td>\n",
       "      <td>1394.751854</td>\n",
       "      <td>1</td>\n",
       "    </tr>\n",
       "    <tr>\n",
       "      <th>18262</th>\n",
       "      <td>2022</td>\n",
       "      <td>5</td>\n",
       "      <td>31</td>\n",
       "      <td>22</td>\n",
       "      <td>1631.491646</td>\n",
       "      <td>1839.695404</td>\n",
       "      <td>1365.817237</td>\n",
       "      <td>1</td>\n",
       "    </tr>\n",
       "    <tr>\n",
       "      <th>18263</th>\n",
       "      <td>2022</td>\n",
       "      <td>5</td>\n",
       "      <td>31</td>\n",
       "      <td>23</td>\n",
       "      <td>1743.350054</td>\n",
       "      <td>1823.018358</td>\n",
       "      <td>1399.883729</td>\n",
       "      <td>1</td>\n",
       "    </tr>\n",
       "  </tbody>\n",
       "</table>\n",
       "<p>18264 rows × 8 columns</p>\n",
       "</div>"
      ],
      "text/plain": [
       "       Year  Month  Day  Hour      PowerL1      PowerL2      PowerL3  \\\n",
       "0      2020      5    1     0   782.501983   896.650392   773.000000   \n",
       "1      2020      5    1     1   937.390867   888.718967   804.916667   \n",
       "2      2020      5    1     2   785.457063   889.193792   767.041667   \n",
       "3      2020      5    1     3  1035.463429   896.947979   770.708333   \n",
       "4      2020      5    1     4   791.389254   897.279196   770.958333   \n",
       "...     ...    ...  ...   ...          ...          ...          ...   \n",
       "18259  2022      5   31    19  1758.702608  2371.511483  1774.948292   \n",
       "18260  2022      5   31    20  1634.401029  1976.749562  1464.862742   \n",
       "18261  2022      5   31    21  1742.510279  1890.756617  1394.751854   \n",
       "18262  2022      5   31    22  1631.491646  1839.695404  1365.817237   \n",
       "18263  2022      5   31    23  1743.350054  1823.018358  1399.883729   \n",
       "\n",
       "       DayOfWeek  \n",
       "0              4  \n",
       "1              4  \n",
       "2              4  \n",
       "3              4  \n",
       "4              4  \n",
       "...          ...  \n",
       "18259          1  \n",
       "18260          1  \n",
       "18261          1  \n",
       "18262          1  \n",
       "18263          1  \n",
       "\n",
       "[18264 rows x 8 columns]"
      ]
     },
     "execution_count": 13,
     "metadata": {},
     "output_type": "execute_result"
    }
   ],
   "source": [
    "dataset_path = os.path.join(\"Dataset\", \"dataset_addestramento.csv\")\n",
    "df = pd.read_csv(dataset_path)\n",
    "df"
   ]
  },
  {
   "cell_type": "code",
   "execution_count": 14,
   "id": "19cc20d6",
   "metadata": {},
   "outputs": [],
   "source": [
    "onehot_encoder = OneHotEncoder()\n",
    "onehot_hour = onehot_encoder.fit_transform(np.array(df[\"Hour\"]).reshape(-1,1)).toarray()\n",
    "onehot_dayofweek = onehot_encoder.fit_transform(np.array(df[\"DayOfWeek\"]).reshape(-1,1)).toarray()"
   ]
  },
  {
   "cell_type": "code",
   "execution_count": 15,
   "id": "e0e8b21c",
   "metadata": {},
   "outputs": [],
   "source": [
    "powerL1 = df['PowerL1'].values\n",
    "powerL2 = df['PowerL2'].values\n",
    "powerL3 = df['PowerL3'].values"
   ]
  },
  {
   "cell_type": "code",
   "execution_count": 16,
   "id": "9b729a61",
   "metadata": {},
   "outputs": [],
   "source": [
    "scaler = MinMaxScaler()\n",
    "data_powerL1 = scaler.fit_transform(powerL1.reshape(-1, 1))\n",
    "data_powerL2 = scaler.fit_transform(powerL2.reshape(-1, 1))\n",
    "data_powerL3 = scaler.fit_transform(powerL3.reshape(-1, 1))"
   ]
  },
  {
   "cell_type": "code",
   "execution_count": 17,
   "id": "0c4f0852",
   "metadata": {},
   "outputs": [],
   "source": [
    "# FINESTRE\n",
    "# window_size_past = ore utilizzate per la previsione futura\n",
    "# window_size_future = ore successive da prevedere\n",
    "window_size_past = 7 * 24\n",
    "#window_size_future = 24\n",
    "step = 24\n",
    "\n",
    "x_load = []\n",
    "x_other_feature = []\n",
    "y = []\n",
    "\n",
    "for i in range(0, len(df)-window_size_past, step):\n",
    "    \n",
    "    x_L1 = data_powerL1[i:i+window_size_past]\n",
    "    x_L2 = data_powerL2[i:i+window_size_past]\n",
    "    x_L3 = data_powerL3[i:i+window_size_past]\n",
    "    \n",
    "    for i in range(step):\n",
    "    \n",
    "        y_L1 = data_powerL1[i+window_size_past]\n",
    "        y_L2 = data_powerL1[i+window_size_past]\n",
    "        y_L3 = data_powerL1[i+window_size_past]\n",
    "\n",
    "        x_dayofweek = onehot_dayofweek[i+window_size_past]\n",
    "        x_hour = onehot_hour[i+window_size_past]\n",
    "        \n",
    "        day_hour = np.concatenate((x_dayofweek, x_hour))\n",
    "        \n",
    "        x_load.append(x_L1)\n",
    "        x_other_feature.append(day_hour)\n",
    "        y.append(y_L1)\n",
    "\n",
    "x_load = tf.stack(x_load)\n",
    "x_other_feature = tf.stack(x_other_feature)\n",
    "y = tf.stack(y)"
   ]
  },
  {
   "cell_type": "code",
   "execution_count": 18,
   "id": "641fea72",
   "metadata": {},
   "outputs": [],
   "source": [
    "#x_train, y_train, x_test, y_test = train_val_split(x, y, 80)"
   ]
  },
  {
   "cell_type": "markdown",
   "id": "6900da69",
   "metadata": {},
   "source": [
    "### PAPER13"
   ]
  },
  {
   "cell_type": "code",
   "execution_count": 19,
   "id": "118a2fce",
   "metadata": {},
   "outputs": [],
   "source": [
    "# PIPELINE LOAD\n",
    "input_load = Input(shape=(window_size_past, 1), name=\"input_load\")\n",
    "\n",
    "# Pipeline 1\n",
    "branch1_1 = Conv1D(filters=64, kernel_size=3, activation='relu', name=\"branch1_1\")(input_load)\n",
    "branch1_2 = MaxPooling1D(pool_size=2, strides=2, name=\"branch1_2\")(branch1_1)\n",
    "\n",
    "# Pipeline 2\n",
    "branch2_1 = Conv1D(filters=64, kernel_size=5, activation='relu', name=\"branch2_1\")(input_load)\n",
    "branch2_2 = MaxPooling1D(pool_size=2, strides=2, name=\"branch2_2\")(branch2_1)\n",
    "\n",
    "# Pipeline 3\n",
    "branch3_1 = Conv1D(filters=64, kernel_size=7, activation='relu', name=\"branch3_1\")(input_load)\n",
    "branch3_2 = MaxPooling1D(pool_size=2, strides=2, name=\"branch3_2\")(branch3_1)\n",
    "\n",
    "# Concatenate pipelines\n",
    "concatenated_layer1 = concatenate([branch1_2,branch2_2,branch3_2], axis=1, name=\"concatenated_layer1\")\n",
    "\n",
    "lstm_layer = LSTM(64, return_sequences=True, name=\"lstm_layer\")(concatenated_layer1)\n",
    "\n",
    "global_average_pooling_layer = GlobalAveragePooling1D(name=\"global_average_pooling_layer\")(lstm_layer)"
   ]
  },
  {
   "cell_type": "code",
   "execution_count": 20,
   "id": "a1acd0e7",
   "metadata": {},
   "outputs": [],
   "source": [
    "# PIPELINE OTHER FEATURE\n",
    "input_other_feature = Input(shape=(31, ), name=\"input_other_feature\")\n",
    "dense1 = Dense(64, activation=\"relu\", name=\"dense1\")(input_other_feature)\n",
    "flatten1 = Flatten(name=\"flatten1\")(dense1)"
   ]
  },
  {
   "cell_type": "code",
   "execution_count": 21,
   "id": "8e489a06",
   "metadata": {},
   "outputs": [],
   "source": [
    "# CONCAT PIPLINES\n",
    "concatenated_layer2 = concatenate([global_average_pooling_layer,flatten1], axis=1, name=\"concatenated_layer2\")\n",
    "\n",
    "dense2 = Dense(64, activation=\"relu\", name=\"dense2\")(concatenated_layer2)\n",
    "dense3 = Dense(64, activation=\"relu\", name=\"dense3\")(dense2)\n",
    "output_layer = Dense(1, activation=\"softmax\", name=\"output_layer\")(dense3)\n",
    "\n",
    "model = Model(inputs=[input_load, input_other_feature], outputs=[output_layer])"
   ]
  },
  {
   "cell_type": "code",
   "execution_count": null,
   "id": "8707363a",
   "metadata": {},
   "outputs": [],
   "source": [
    "# from tensorflow import keras\n",
    "# keras.utils.plot_model(model, \"architecture.png\", show_shapes=True)"
   ]
  },
  {
   "cell_type": "code",
   "execution_count": 22,
   "id": "173a214e",
   "metadata": {},
   "outputs": [
    {
     "name": "stdout",
     "output_type": "stream",
     "text": [
      "Model: \"model\"\n",
      "__________________________________________________________________________________________________\n",
      " Layer (type)                   Output Shape         Param #     Connected to                     \n",
      "==================================================================================================\n",
      " input_load (InputLayer)        [(None, 168, 1)]     0           []                               \n",
      "                                                                                                  \n",
      " branch1_1 (Conv1D)             (None, 166, 64)      256         ['input_load[0][0]']             \n",
      "                                                                                                  \n",
      " branch2_1 (Conv1D)             (None, 164, 64)      384         ['input_load[0][0]']             \n",
      "                                                                                                  \n",
      " branch3_1 (Conv1D)             (None, 162, 64)      512         ['input_load[0][0]']             \n",
      "                                                                                                  \n",
      " branch1_2 (MaxPooling1D)       (None, 83, 64)       0           ['branch1_1[0][0]']              \n",
      "                                                                                                  \n",
      " branch2_2 (MaxPooling1D)       (None, 82, 64)       0           ['branch2_1[0][0]']              \n",
      "                                                                                                  \n",
      " branch3_2 (MaxPooling1D)       (None, 81, 64)       0           ['branch3_1[0][0]']              \n",
      "                                                                                                  \n",
      " concatenated_layer1 (Concatena  (None, 246, 64)     0           ['branch1_2[0][0]',              \n",
      " te)                                                              'branch2_2[0][0]',              \n",
      "                                                                  'branch3_2[0][0]']              \n",
      "                                                                                                  \n",
      " input_other_feature (InputLaye  [(None, 31)]        0           []                               \n",
      " r)                                                                                               \n",
      "                                                                                                  \n",
      " lstm_layer (LSTM)              (None, 246, 64)      33024       ['concatenated_layer1[0][0]']    \n",
      "                                                                                                  \n",
      " dense1 (Dense)                 (None, 64)           2048        ['input_other_feature[0][0]']    \n",
      "                                                                                                  \n",
      " global_average_pooling_layer (  (None, 64)          0           ['lstm_layer[0][0]']             \n",
      " GlobalAveragePooling1D)                                                                          \n",
      "                                                                                                  \n",
      " flatten1 (Flatten)             (None, 64)           0           ['dense1[0][0]']                 \n",
      "                                                                                                  \n",
      " concatenated_layer2 (Concatena  (None, 128)         0           ['global_average_pooling_layer[0]\n",
      " te)                                                             [0]',                            \n",
      "                                                                  'flatten1[0][0]']               \n",
      "                                                                                                  \n",
      " dense2 (Dense)                 (None, 64)           8256        ['concatenated_layer2[0][0]']    \n",
      "                                                                                                  \n",
      " dense3 (Dense)                 (None, 64)           4160        ['dense2[0][0]']                 \n",
      "                                                                                                  \n",
      " output_layer (Dense)           (None, 1)            65          ['dense3[0][0]']                 \n",
      "                                                                                                  \n",
      "==================================================================================================\n",
      "Total params: 48,705\n",
      "Trainable params: 48,705\n",
      "Non-trainable params: 0\n",
      "__________________________________________________________________________________________________\n"
     ]
    }
   ],
   "source": [
    "model.summary()"
   ]
  },
  {
   "cell_type": "code",
   "execution_count": null,
   "id": "3b03ca74",
   "metadata": {},
   "outputs": [],
   "source": [
    "optimizer = Adam(learning_rate=0.1)\n",
    "model.compile(optimizer=optimizer, loss=\"mean_squared_error\", metrics=[\"mean_absolute_percentage_error\"])"
   ]
  },
  {
   "cell_type": "code",
   "execution_count": null,
   "id": "e37523c5",
   "metadata": {},
   "outputs": [],
   "source": [
    "model.fit([x_load, x_other_feature], y, epochs=5, batch_size=32)"
   ]
  },
  {
   "cell_type": "code",
   "execution_count": null,
   "id": "fdb6ca20",
   "metadata": {},
   "outputs": [],
   "source": []
  },
  {
   "cell_type": "code",
   "execution_count": null,
   "id": "a39d7d23",
   "metadata": {},
   "outputs": [],
   "source": [
    "prediction = model.predict(x_test[-1].reshape(1, window_size_past, 1))"
   ]
  },
  {
   "cell_type": "code",
   "execution_count": null,
   "id": "36b19c9f",
   "metadata": {},
   "outputs": [],
   "source": [
    "forecast = scaler.inverse_transform(np.array(prediction).reshape(-1, 1))"
   ]
  },
  {
   "cell_type": "code",
   "execution_count": null,
   "id": "f90d8ec6",
   "metadata": {},
   "outputs": [],
   "source": [
    "true = scaler.inverse_transform(y_test[-1])"
   ]
  },
  {
   "cell_type": "code",
   "execution_count": null,
   "id": "74d36892",
   "metadata": {},
   "outputs": [],
   "source": [
    "title = \"Curva di carico giornaliera\"\n",
    "xlabel = \"TotalPower\"\n",
    "ylabel = \"W\"\n",
    "dim = (15,5)\n",
    "c1 = \"#2271b3\"\n",
    "c2 = \"#000000\"\n",
    "plot_predict(true.reshape(1,window_size_future)[0], forecast.reshape(1,window_size_future)[0], c1, c2, title, xlabel, ylabel, dim)"
   ]
  },
  {
   "cell_type": "markdown",
   "id": "436c612d",
   "metadata": {},
   "source": [
    "### TEST"
   ]
  },
  {
   "cell_type": "code",
   "execution_count": null,
   "id": "fc5f5e85",
   "metadata": {},
   "outputs": [],
   "source": []
  },
  {
   "cell_type": "code",
   "execution_count": null,
   "id": "54d1d499",
   "metadata": {},
   "outputs": [],
   "source": []
  },
  {
   "cell_type": "code",
   "execution_count": null,
   "id": "0247c962",
   "metadata": {},
   "outputs": [],
   "source": []
  },
  {
   "cell_type": "code",
   "execution_count": null,
   "id": "eb034ca1",
   "metadata": {},
   "outputs": [],
   "source": []
  },
  {
   "cell_type": "code",
   "execution_count": null,
   "id": "8bb20bcd",
   "metadata": {},
   "outputs": [],
   "source": []
  },
  {
   "cell_type": "code",
   "execution_count": null,
   "id": "d56a86f8",
   "metadata": {},
   "outputs": [],
   "source": [
    "model = Sequential()\n",
    "model.add(Conv1D(32, kernel_size=3, activation='relu', input_shape=(window_size_past, 1)))\n",
    "model.add(MaxPooling1D(pool_size=2))\n",
    "model.add(Conv1D(64, kernel_size=3, activation='relu'))\n",
    "model.add(MaxPooling1D(pool_size=2))\n",
    "model.add(Conv1D(128, kernel_size=3, activation='relu'))\n",
    "model.add(Flatten())\n",
    "model.add(Dense(window_size_future))"
   ]
  },
  {
   "cell_type": "code",
   "execution_count": null,
   "id": "462b1046",
   "metadata": {},
   "outputs": [],
   "source": [
    "model.summary()"
   ]
  },
  {
   "cell_type": "code",
   "execution_count": null,
   "id": "8e72e846",
   "metadata": {},
   "outputs": [],
   "source": [
    "model.compile(optimizer='adam', loss='mean_squared_error')"
   ]
  },
  {
   "cell_type": "code",
   "execution_count": null,
   "id": "889e8fb5",
   "metadata": {},
   "outputs": [],
   "source": [
    "model.fit(x_train, y_train, epochs=10, batch_size=16)"
   ]
  },
  {
   "cell_type": "code",
   "execution_count": null,
   "id": "ddb7c34f",
   "metadata": {},
   "outputs": [],
   "source": [
    "loss = model.evaluate(x_test, y_test)"
   ]
  },
  {
   "cell_type": "code",
   "execution_count": null,
   "id": "a2d6a315",
   "metadata": {},
   "outputs": [],
   "source": []
  },
  {
   "cell_type": "code",
   "execution_count": null,
   "id": "538d100c",
   "metadata": {},
   "outputs": [],
   "source": [
    "prediction = model.predict(x_test[-1].reshape(1, window_size_past, 1))"
   ]
  },
  {
   "cell_type": "code",
   "execution_count": null,
   "id": "5bdb5820",
   "metadata": {},
   "outputs": [],
   "source": [
    "forecast = scaler.inverse_transform(np.array(prediction).reshape(-1, 1))"
   ]
  },
  {
   "cell_type": "code",
   "execution_count": null,
   "id": "bb03db31",
   "metadata": {},
   "outputs": [],
   "source": [
    "true = scaler.inverse_transform(y_test[-1])"
   ]
  },
  {
   "cell_type": "code",
   "execution_count": null,
   "id": "34d07534",
   "metadata": {},
   "outputs": [],
   "source": []
  },
  {
   "cell_type": "code",
   "execution_count": null,
   "id": "a5bdb2cd",
   "metadata": {},
   "outputs": [],
   "source": [
    "def plot_predict(values_true, values_predict, c1, c2, title, xlabel, ylabel, dim):\n",
    "                \n",
    "    plt.figure(figsize=dim) \n",
    "    plt.grid(color=c2, linestyle=\"-\", linewidth=\"0.2\", axis=\"y\")\n",
    "    \n",
    "    plt.title(title)\n",
    "    plt.xlabel(xlabel)\n",
    "    plt.ylabel(ylabel)\n",
    "    \n",
    "    len_x = len(values_true)\n",
    "    xvalue = [x for x in range(0,len_x)]  \n",
    "\n",
    "    plt.plot(xvalue, values_true, color=c1, linewidth=\"2\")\n",
    "    plt.plot(xvalue, values_predict, color=\"red\", linewidth=\"2\")\n",
    "    \n",
    "    #file_name = \"\".join(title.lower()).replace(\" \", \"_\")\n",
    "    #path = make_path(plot_path, file_name)\n",
    "    #plt.savefig(path, bbox_inches='tight', transparent=True)\n",
    "    plt.show()"
   ]
  },
  {
   "cell_type": "code",
   "execution_count": null,
   "id": "51d81dca",
   "metadata": {},
   "outputs": [],
   "source": [
    "title = \"Curva di carico giornaliera\"\n",
    "xlabel = \"TotalPower\"\n",
    "ylabel = \"W\"\n",
    "dim = (15,5)\n",
    "c1 = \"#2271b3\"\n",
    "c2 = \"#000000\"\n",
    "plot_predict(true.reshape(1,window_size_future)[0], forecast.reshape(1,window_size_future)[0], c1, c2, title, xlabel, ylabel, dim)"
   ]
  },
  {
   "cell_type": "code",
   "execution_count": null,
   "id": "00df8304",
   "metadata": {},
   "outputs": [],
   "source": []
  }
 ],
 "metadata": {
  "kernelspec": {
   "display_name": "Python 3",
   "language": "python",
   "name": "python3"
  },
  "language_info": {
   "codemirror_mode": {
    "name": "ipython",
    "version": 3
   },
   "file_extension": ".py",
   "mimetype": "text/x-python",
   "name": "python",
   "nbconvert_exporter": "python",
   "pygments_lexer": "ipython3",
   "version": "3.8.8"
  }
 },
 "nbformat": 4,
 "nbformat_minor": 5
}
